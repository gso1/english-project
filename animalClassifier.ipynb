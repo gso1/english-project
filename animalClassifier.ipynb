{
  "cells": [
    {
      "cell_type": "code",
      "execution_count": 9,
      "metadata": {
        "id": "gSKMAZg5OFE_"
      },
      "outputs": [],
      "source": [
        "#hide\n",
        "!pip install -Uqq fastbook\n",
        "import fastbook\n",
        "fastbook.setup_book()"
      ]
    },
    {
      "cell_type": "code",
      "execution_count": 10,
      "metadata": {
        "id": "AjJOHekjOFFB"
      },
      "outputs": [],
      "source": [
        "#hide\n",
        "from fastbook import *\n",
        "from fastai.vision.widgets import *"
      ]
    },
    {
      "cell_type": "markdown",
      "metadata": {
        "id": "PVHY2zQIOFFY"
      },
      "source": [
        "### Creating a Notebook App from the Model"
      ]
    },
    {
      "cell_type": "code",
      "execution_count": 12,
      "metadata": {
        "id": "iDvcYL8eq05a"
      },
      "outputs": [],
      "source": [
        "path = Path()\n",
        "learn_inf = load_learner(path/'export.pkl')"
      ]
    },
    {
      "cell_type": "code",
      "execution_count": 13,
      "metadata": {
        "colab": {
          "base_uri": "https://localhost:8080/",
          "height": 49,
          "referenced_widgets": [
            "775b1f04c76e4ede86d8a1d8aac3812c",
            "9eb281a8bb4e4894a305e6cbec1fc954",
            "303f67a8a18f4e48890ef8581de0b216"
          ]
        },
        "id": "3_wWX3GOOFFY",
        "outputId": "07b6f02d-d417-4cd2-f176-c321b7997463"
      },
      "outputs": [
        {
          "data": {
            "application/vnd.jupyter.widget-view+json": {
              "model_id": "775b1f04c76e4ede86d8a1d8aac3812c",
              "version_major": 2,
              "version_minor": 0
            },
            "text/plain": [
              "FileUpload(value={}, description='Upload')"
            ]
          },
          "metadata": {},
          "output_type": "display_data"
        }
      ],
      "source": [
        "btn_upload = widgets.FileUpload()"
      ]
    },
    {
      "cell_type": "code",
      "execution_count": 14,
      "metadata": {
        "id": "pfoxC_NYOFFa"
      },
      "outputs": [],
      "source": [
        "out_pl = widgets.Output()\n",
        "out_pl.clear_output()"
      ]
    },
    {
      "cell_type": "code",
      "execution_count": 15,
      "metadata": {
        "id": "UTPH3vNmOFFa"
      },
      "outputs": [],
      "source": [
        "lbl_pred = widgets.Label()\n"
      ]
    },
    {
      "cell_type": "code",
      "execution_count": 16,
      "metadata": {
        "colab": {
          "base_uri": "https://localhost:8080/",
          "height": 49,
          "referenced_widgets": [
            "0cfab3458d33418abb2264d069e5dca5",
            "d892c1a7ca8a428285adcb88927bd835",
            "1c864ba41fa849388a6914f44757646f"
          ]
        },
        "id": "RgSbsGqxOFFa",
        "outputId": "2f3e0889-fc18-48c5-8d7c-708ac9befe57"
      },
      "outputs": [
        {
          "data": {
            "application/vnd.jupyter.widget-view+json": {
              "model_id": "0cfab3458d33418abb2264d069e5dca5",
              "version_major": 2,
              "version_minor": 0
            },
            "text/plain": [
              "Button(description='Classify', style=ButtonStyle())"
            ]
          },
          "metadata": {},
          "output_type": "display_data"
        }
      ],
      "source": [
        "btn_run = widgets.Button(description='Classify')"
      ]
    },
    {
      "cell_type": "code",
      "execution_count": 17,
      "metadata": {
        "id": "bIYIdZudOFFb"
      },
      "outputs": [],
      "source": [
        "def on_click_classify(change):\n",
        "    img = PILImage.create(btn_upload.data[-1])\n",
        "    out_pl.clear_output()\n",
        "    with out_pl: display(img.to_thumb(128,128))\n",
        "    pred,pred_idx,probs = learn_inf.predict(img)\n",
        "    lbl_pred.value = f'Prediction: {pred}; Probability: {probs[pred_idx]:.04f}'\n",
        "\n",
        "btn_run.on_click(on_click_classify)"
      ]
    },
    {
      "cell_type": "code",
      "execution_count": 18,
      "metadata": {
        "id": "MR2s2Gq0OFFb"
      },
      "outputs": [],
      "source": [
        "#hide\n",
        "#Putting back btn_upload to a widget for next cell\n",
        "btn_upload = widgets.FileUpload()"
      ]
    },
    {
      "cell_type": "code",
      "execution_count": 19,
      "metadata": {
        "colab": {
          "base_uri": "https://localhost:8080/",
          "height": 253,
          "referenced_widgets": [
            "b515dae044b8443192823e5f2d46f123",
            "56345b5fee47497bb81ec2376733435e",
            "a94c2f2d36cb4f0a8ffbb9f89c55ad9c",
            "0cfab3458d33418abb2264d069e5dca5",
            "f6c880b52c8e4bb0865621bed2cc99fa",
            "73117988390a440895e5819ce4da3da1",
            "ceee8c267f8a4d78b004c61ba8ae380f",
            "c61cdf95294b42a18cacb716a19507dd",
            "f90f1a8aba1d4fb2ac4d13f66f70e75b",
            "5e4e43298fb74057b7540aed1a92b6ce",
            "02e2108b7d8841c1a31f0c6544838990",
            "d892c1a7ca8a428285adcb88927bd835",
            "1c864ba41fa849388a6914f44757646f",
            "c33bfac9c0a14d46beeb720bcb79fdc1",
            "081d25f5226d48f38635ed79be7387dc",
            "ba30c7f35ce94c67bbecfc1a1e4773ef"
          ]
        },
        "id": "u3x0rcdoOFFb",
        "outputId": "00a31cf6-ebd9-4bcc-ccb2-436ec9b983d8"
      },
      "outputs": [
        {
          "data": {
            "application/vnd.jupyter.widget-view+json": {
              "model_id": "b515dae044b8443192823e5f2d46f123",
              "version_major": 2,
              "version_minor": 0
            },
            "text/plain": [
              "VBox(children=(Label(value='Select your cavalo'), FileUpload(value={}, description='Upload'), Button(descripti…"
            ]
          },
          "metadata": {},
          "output_type": "display_data"
        },
        {
          "data": {
            "text/html": [
              "\n",
              "<style>\n",
              "    /* Turns off some styling */\n",
              "    progress {\n",
              "        /* gets rid of default border in Firefox and Opera. */\n",
              "        border: none;\n",
              "        /* Needs to be in here for Safari polyfill so background images work as expected. */\n",
              "        background-size: auto;\n",
              "    }\n",
              "    .progress-bar-interrupted, .progress-bar-interrupted::-webkit-progress-bar {\n",
              "        background: #F44336;\n",
              "    }\n",
              "</style>\n"
            ],
            "text/plain": [
              "<IPython.core.display.HTML object>"
            ]
          },
          "metadata": {},
          "output_type": "display_data"
        },
        {
          "data": {
            "text/html": [],
            "text/plain": [
              "<IPython.core.display.HTML object>"
            ]
          },
          "metadata": {},
          "output_type": "display_data"
        }
      ],
      "source": [
        "VBox([widgets.Label('Select your cavalo'), \n",
        "      btn_upload, btn_run, out_pl, lbl_pred])"
      ]
    }
  ],
  "metadata": {
    "accelerator": "GPU",
    "colab": {
      "collapsed_sections": [
        "fyutw3qEOFFR",
        "EMBRb4PVOFFR",
        "NpjJAmYHOFFc",
        "fi2a_hxhOFFc"
      ],
      "name": "Widget-project-2.ipynb",
      "provenance": []
    },
    "jupytext": {
      "split_at_heading": true
    },
    "kernelspec": {
      "display_name": "Python 3",
      "language": "python",
      "name": "python3"
    },
    "widgets": {
      "application/vnd.jupyter.widget-state+json": {
        "02e2108b7d8841c1a31f0c6544838990": {
          "model_module": "@jupyter-widgets/controls",
          "model_module_version": "1.5.0",
          "model_name": "ButtonStyleModel",
          "state": {
            "_model_module": "@jupyter-widgets/controls",
            "_model_module_version": "1.5.0",
            "_model_name": "ButtonStyleModel",
            "_view_count": null,
            "_view_module": "@jupyter-widgets/base",
            "_view_module_version": "1.2.0",
            "_view_name": "StyleView",
            "button_color": null,
            "font_weight": ""
          }
        },
        "081d25f5226d48f38635ed79be7387dc": {
          "model_module": "@jupyter-widgets/controls",
          "model_module_version": "1.5.0",
          "model_name": "DescriptionStyleModel",
          "state": {
            "_model_module": "@jupyter-widgets/controls",
            "_model_module_version": "1.5.0",
            "_model_name": "DescriptionStyleModel",
            "_view_count": null,
            "_view_module": "@jupyter-widgets/base",
            "_view_module_version": "1.2.0",
            "_view_name": "StyleView",
            "description_width": ""
          }
        },
        "0cfab3458d33418abb2264d069e5dca5": {
          "model_module": "@jupyter-widgets/controls",
          "model_module_version": "1.5.0",
          "model_name": "ButtonModel",
          "state": {
            "_dom_classes": [],
            "_model_module": "@jupyter-widgets/controls",
            "_model_module_version": "1.5.0",
            "_model_name": "ButtonModel",
            "_view_count": null,
            "_view_module": "@jupyter-widgets/controls",
            "_view_module_version": "1.5.0",
            "_view_name": "ButtonView",
            "button_style": "",
            "description": "Classify",
            "disabled": false,
            "icon": "",
            "layout": "IPY_MODEL_d892c1a7ca8a428285adcb88927bd835",
            "style": "IPY_MODEL_1c864ba41fa849388a6914f44757646f",
            "tooltip": ""
          }
        },
        "1c864ba41fa849388a6914f44757646f": {
          "model_module": "@jupyter-widgets/controls",
          "model_module_version": "1.5.0",
          "model_name": "ButtonStyleModel",
          "state": {
            "_model_module": "@jupyter-widgets/controls",
            "_model_module_version": "1.5.0",
            "_model_name": "ButtonStyleModel",
            "_view_count": null,
            "_view_module": "@jupyter-widgets/base",
            "_view_module_version": "1.2.0",
            "_view_name": "StyleView",
            "button_color": null,
            "font_weight": ""
          }
        },
        "303f67a8a18f4e48890ef8581de0b216": {
          "model_module": "@jupyter-widgets/controls",
          "model_module_version": "1.5.0",
          "model_name": "ButtonStyleModel",
          "state": {
            "_model_module": "@jupyter-widgets/controls",
            "_model_module_version": "1.5.0",
            "_model_name": "ButtonStyleModel",
            "_view_count": null,
            "_view_module": "@jupyter-widgets/base",
            "_view_module_version": "1.2.0",
            "_view_name": "StyleView",
            "button_color": null,
            "font_weight": ""
          }
        },
        "56345b5fee47497bb81ec2376733435e": {
          "model_module": "@jupyter-widgets/controls",
          "model_module_version": "1.5.0",
          "model_name": "LabelModel",
          "state": {
            "_dom_classes": [],
            "_model_module": "@jupyter-widgets/controls",
            "_model_module_version": "1.5.0",
            "_model_name": "LabelModel",
            "_view_count": null,
            "_view_module": "@jupyter-widgets/controls",
            "_view_module_version": "1.5.0",
            "_view_name": "LabelView",
            "description": "",
            "description_tooltip": null,
            "layout": "IPY_MODEL_c61cdf95294b42a18cacb716a19507dd",
            "placeholder": "​",
            "style": "IPY_MODEL_f90f1a8aba1d4fb2ac4d13f66f70e75b",
            "value": "Select your cavalo"
          }
        },
        "5e4e43298fb74057b7540aed1a92b6ce": {
          "model_module": "@jupyter-widgets/base",
          "model_module_version": "1.2.0",
          "model_name": "LayoutModel",
          "state": {
            "_model_module": "@jupyter-widgets/base",
            "_model_module_version": "1.2.0",
            "_model_name": "LayoutModel",
            "_view_count": null,
            "_view_module": "@jupyter-widgets/base",
            "_view_module_version": "1.2.0",
            "_view_name": "LayoutView",
            "align_content": null,
            "align_items": null,
            "align_self": null,
            "border": null,
            "bottom": null,
            "display": null,
            "flex": null,
            "flex_flow": null,
            "grid_area": null,
            "grid_auto_columns": null,
            "grid_auto_flow": null,
            "grid_auto_rows": null,
            "grid_column": null,
            "grid_gap": null,
            "grid_row": null,
            "grid_template_areas": null,
            "grid_template_columns": null,
            "grid_template_rows": null,
            "height": null,
            "justify_content": null,
            "justify_items": null,
            "left": null,
            "margin": null,
            "max_height": null,
            "max_width": null,
            "min_height": null,
            "min_width": null,
            "object_fit": null,
            "object_position": null,
            "order": null,
            "overflow": null,
            "overflow_x": null,
            "overflow_y": null,
            "padding": null,
            "right": null,
            "top": null,
            "visibility": null,
            "width": null
          }
        },
        "73117988390a440895e5819ce4da3da1": {
          "model_module": "@jupyter-widgets/controls",
          "model_module_version": "1.5.0",
          "model_name": "LabelModel",
          "state": {
            "_dom_classes": [],
            "_model_module": "@jupyter-widgets/controls",
            "_model_module_version": "1.5.0",
            "_model_name": "LabelModel",
            "_view_count": null,
            "_view_module": "@jupyter-widgets/controls",
            "_view_module_version": "1.5.0",
            "_view_name": "LabelView",
            "description": "",
            "description_tooltip": null,
            "layout": "IPY_MODEL_c33bfac9c0a14d46beeb720bcb79fdc1",
            "placeholder": "​",
            "style": "IPY_MODEL_081d25f5226d48f38635ed79be7387dc",
            "value": "Prediction: horse; Probability: 0.9987"
          }
        },
        "775b1f04c76e4ede86d8a1d8aac3812c": {
          "model_module": "@jupyter-widgets/controls",
          "model_module_version": "1.5.0",
          "model_name": "FileUploadModel",
          "state": {
            "_counter": 0,
            "_dom_classes": [],
            "_model_module": "@jupyter-widgets/controls",
            "_model_module_version": "1.5.0",
            "_model_name": "FileUploadModel",
            "_view_count": null,
            "_view_module": "@jupyter-widgets/controls",
            "_view_module_version": "1.5.0",
            "_view_name": "FileUploadView",
            "accept": "",
            "button_style": "",
            "data": [],
            "description": "Upload",
            "description_tooltip": null,
            "disabled": false,
            "error": "",
            "icon": "upload",
            "layout": "IPY_MODEL_9eb281a8bb4e4894a305e6cbec1fc954",
            "metadata": [],
            "multiple": false,
            "style": "IPY_MODEL_303f67a8a18f4e48890ef8581de0b216"
          }
        },
        "9eb281a8bb4e4894a305e6cbec1fc954": {
          "model_module": "@jupyter-widgets/base",
          "model_module_version": "1.2.0",
          "model_name": "LayoutModel",
          "state": {
            "_model_module": "@jupyter-widgets/base",
            "_model_module_version": "1.2.0",
            "_model_name": "LayoutModel",
            "_view_count": null,
            "_view_module": "@jupyter-widgets/base",
            "_view_module_version": "1.2.0",
            "_view_name": "LayoutView",
            "align_content": null,
            "align_items": null,
            "align_self": null,
            "border": null,
            "bottom": null,
            "display": null,
            "flex": null,
            "flex_flow": null,
            "grid_area": null,
            "grid_auto_columns": null,
            "grid_auto_flow": null,
            "grid_auto_rows": null,
            "grid_column": null,
            "grid_gap": null,
            "grid_row": null,
            "grid_template_areas": null,
            "grid_template_columns": null,
            "grid_template_rows": null,
            "height": null,
            "justify_content": null,
            "justify_items": null,
            "left": null,
            "margin": null,
            "max_height": null,
            "max_width": null,
            "min_height": null,
            "min_width": null,
            "object_fit": null,
            "object_position": null,
            "order": null,
            "overflow": null,
            "overflow_x": null,
            "overflow_y": null,
            "padding": null,
            "right": null,
            "top": null,
            "visibility": null,
            "width": null
          }
        },
        "a94c2f2d36cb4f0a8ffbb9f89c55ad9c": {
          "model_module": "@jupyter-widgets/controls",
          "model_module_version": "1.5.0",
          "model_name": "FileUploadModel",
          "state": {
            "_counter": 1,
            "_dom_classes": [],
            "_model_module": "@jupyter-widgets/controls",
            "_model_module_version": "1.5.0",
            "_model_name": "FileUploadModel",
            "_view_count": null,
            "_view_module": "@jupyter-widgets/controls",
            "_view_module_version": "1.5.0",
            "_view_name": "FileUploadView",
            "accept": "",
            "button_style": "",
            "data": [
              null
            ],
            "description": "Upload",
            "description_tooltip": null,
            "disabled": false,
            "error": "",
            "icon": "upload",
            "layout": "IPY_MODEL_5e4e43298fb74057b7540aed1a92b6ce",
            "metadata": [
              {
                "lastModified": 1652651247861,
                "name": "Captura de tela de 2022-05-15 18-47-23.png",
                "size": 275528,
                "type": "image/png"
              }
            ],
            "multiple": false,
            "style": "IPY_MODEL_02e2108b7d8841c1a31f0c6544838990"
          }
        },
        "b515dae044b8443192823e5f2d46f123": {
          "model_module": "@jupyter-widgets/controls",
          "model_module_version": "1.5.0",
          "model_name": "VBoxModel",
          "state": {
            "_dom_classes": [],
            "_model_module": "@jupyter-widgets/controls",
            "_model_module_version": "1.5.0",
            "_model_name": "VBoxModel",
            "_view_count": null,
            "_view_module": "@jupyter-widgets/controls",
            "_view_module_version": "1.5.0",
            "_view_name": "VBoxView",
            "box_style": "",
            "children": [
              "IPY_MODEL_56345b5fee47497bb81ec2376733435e",
              "IPY_MODEL_a94c2f2d36cb4f0a8ffbb9f89c55ad9c",
              "IPY_MODEL_0cfab3458d33418abb2264d069e5dca5",
              "IPY_MODEL_f6c880b52c8e4bb0865621bed2cc99fa",
              "IPY_MODEL_73117988390a440895e5819ce4da3da1"
            ],
            "layout": "IPY_MODEL_ceee8c267f8a4d78b004c61ba8ae380f"
          }
        },
        "ba30c7f35ce94c67bbecfc1a1e4773ef": {
          "model_module": "@jupyter-widgets/base",
          "model_module_version": "1.2.0",
          "model_name": "LayoutModel",
          "state": {
            "_model_module": "@jupyter-widgets/base",
            "_model_module_version": "1.2.0",
            "_model_name": "LayoutModel",
            "_view_count": null,
            "_view_module": "@jupyter-widgets/base",
            "_view_module_version": "1.2.0",
            "_view_name": "LayoutView",
            "align_content": null,
            "align_items": null,
            "align_self": null,
            "border": null,
            "bottom": null,
            "display": null,
            "flex": null,
            "flex_flow": null,
            "grid_area": null,
            "grid_auto_columns": null,
            "grid_auto_flow": null,
            "grid_auto_rows": null,
            "grid_column": null,
            "grid_gap": null,
            "grid_row": null,
            "grid_template_areas": null,
            "grid_template_columns": null,
            "grid_template_rows": null,
            "height": null,
            "justify_content": null,
            "justify_items": null,
            "left": null,
            "margin": null,
            "max_height": null,
            "max_width": null,
            "min_height": null,
            "min_width": null,
            "object_fit": null,
            "object_position": null,
            "order": null,
            "overflow": null,
            "overflow_x": null,
            "overflow_y": null,
            "padding": null,
            "right": null,
            "top": null,
            "visibility": null,
            "width": null
          }
        },
        "c33bfac9c0a14d46beeb720bcb79fdc1": {
          "model_module": "@jupyter-widgets/base",
          "model_module_version": "1.2.0",
          "model_name": "LayoutModel",
          "state": {
            "_model_module": "@jupyter-widgets/base",
            "_model_module_version": "1.2.0",
            "_model_name": "LayoutModel",
            "_view_count": null,
            "_view_module": "@jupyter-widgets/base",
            "_view_module_version": "1.2.0",
            "_view_name": "LayoutView",
            "align_content": null,
            "align_items": null,
            "align_self": null,
            "border": null,
            "bottom": null,
            "display": null,
            "flex": null,
            "flex_flow": null,
            "grid_area": null,
            "grid_auto_columns": null,
            "grid_auto_flow": null,
            "grid_auto_rows": null,
            "grid_column": null,
            "grid_gap": null,
            "grid_row": null,
            "grid_template_areas": null,
            "grid_template_columns": null,
            "grid_template_rows": null,
            "height": null,
            "justify_content": null,
            "justify_items": null,
            "left": null,
            "margin": null,
            "max_height": null,
            "max_width": null,
            "min_height": null,
            "min_width": null,
            "object_fit": null,
            "object_position": null,
            "order": null,
            "overflow": null,
            "overflow_x": null,
            "overflow_y": null,
            "padding": null,
            "right": null,
            "top": null,
            "visibility": null,
            "width": null
          }
        },
        "c61cdf95294b42a18cacb716a19507dd": {
          "model_module": "@jupyter-widgets/base",
          "model_module_version": "1.2.0",
          "model_name": "LayoutModel",
          "state": {
            "_model_module": "@jupyter-widgets/base",
            "_model_module_version": "1.2.0",
            "_model_name": "LayoutModel",
            "_view_count": null,
            "_view_module": "@jupyter-widgets/base",
            "_view_module_version": "1.2.0",
            "_view_name": "LayoutView",
            "align_content": null,
            "align_items": null,
            "align_self": null,
            "border": null,
            "bottom": null,
            "display": null,
            "flex": null,
            "flex_flow": null,
            "grid_area": null,
            "grid_auto_columns": null,
            "grid_auto_flow": null,
            "grid_auto_rows": null,
            "grid_column": null,
            "grid_gap": null,
            "grid_row": null,
            "grid_template_areas": null,
            "grid_template_columns": null,
            "grid_template_rows": null,
            "height": null,
            "justify_content": null,
            "justify_items": null,
            "left": null,
            "margin": null,
            "max_height": null,
            "max_width": null,
            "min_height": null,
            "min_width": null,
            "object_fit": null,
            "object_position": null,
            "order": null,
            "overflow": null,
            "overflow_x": null,
            "overflow_y": null,
            "padding": null,
            "right": null,
            "top": null,
            "visibility": null,
            "width": null
          }
        },
        "ceee8c267f8a4d78b004c61ba8ae380f": {
          "model_module": "@jupyter-widgets/base",
          "model_module_version": "1.2.0",
          "model_name": "LayoutModel",
          "state": {
            "_model_module": "@jupyter-widgets/base",
            "_model_module_version": "1.2.0",
            "_model_name": "LayoutModel",
            "_view_count": null,
            "_view_module": "@jupyter-widgets/base",
            "_view_module_version": "1.2.0",
            "_view_name": "LayoutView",
            "align_content": null,
            "align_items": null,
            "align_self": null,
            "border": null,
            "bottom": null,
            "display": null,
            "flex": null,
            "flex_flow": null,
            "grid_area": null,
            "grid_auto_columns": null,
            "grid_auto_flow": null,
            "grid_auto_rows": null,
            "grid_column": null,
            "grid_gap": null,
            "grid_row": null,
            "grid_template_areas": null,
            "grid_template_columns": null,
            "grid_template_rows": null,
            "height": null,
            "justify_content": null,
            "justify_items": null,
            "left": null,
            "margin": null,
            "max_height": null,
            "max_width": null,
            "min_height": null,
            "min_width": null,
            "object_fit": null,
            "object_position": null,
            "order": null,
            "overflow": null,
            "overflow_x": null,
            "overflow_y": null,
            "padding": null,
            "right": null,
            "top": null,
            "visibility": null,
            "width": null
          }
        },
        "d892c1a7ca8a428285adcb88927bd835": {
          "model_module": "@jupyter-widgets/base",
          "model_module_version": "1.2.0",
          "model_name": "LayoutModel",
          "state": {
            "_model_module": "@jupyter-widgets/base",
            "_model_module_version": "1.2.0",
            "_model_name": "LayoutModel",
            "_view_count": null,
            "_view_module": "@jupyter-widgets/base",
            "_view_module_version": "1.2.0",
            "_view_name": "LayoutView",
            "align_content": null,
            "align_items": null,
            "align_self": null,
            "border": null,
            "bottom": null,
            "display": null,
            "flex": null,
            "flex_flow": null,
            "grid_area": null,
            "grid_auto_columns": null,
            "grid_auto_flow": null,
            "grid_auto_rows": null,
            "grid_column": null,
            "grid_gap": null,
            "grid_row": null,
            "grid_template_areas": null,
            "grid_template_columns": null,
            "grid_template_rows": null,
            "height": null,
            "justify_content": null,
            "justify_items": null,
            "left": null,
            "margin": null,
            "max_height": null,
            "max_width": null,
            "min_height": null,
            "min_width": null,
            "object_fit": null,
            "object_position": null,
            "order": null,
            "overflow": null,
            "overflow_x": null,
            "overflow_y": null,
            "padding": null,
            "right": null,
            "top": null,
            "visibility": null,
            "width": null
          }
        },
        "f6c880b52c8e4bb0865621bed2cc99fa": {
          "model_module": "@jupyter-widgets/output",
          "model_module_version": "1.0.0",
          "model_name": "OutputModel",
          "state": {
            "_dom_classes": [],
            "_model_module": "@jupyter-widgets/output",
            "_model_module_version": "1.0.0",
            "_model_name": "OutputModel",
            "_view_count": null,
            "_view_module": "@jupyter-widgets/output",
            "_view_module_version": "1.0.0",
            "_view_name": "OutputView",
            "layout": "IPY_MODEL_ba30c7f35ce94c67bbecfc1a1e4773ef",
            "msg_id": "",
            "outputs": [
              {
                "data": {
                  "image/png": "iVBORw0KGgoAAAANSUhEUgAAAIAAAABsCAIAAAAt2i1lAABhKUlEQVR4nJX9abBt2XEeiH2Za62995nv/OZX9WrGVCiAmImRo0SKokipNbbDkjra7AhbVuuHHWG3o62WQpbDrehotWU1FW0pJMumZbFFkU2Jg0iCDZIACsSMqkIVanhVb7zzPfMe1pDpH/uc+14BkELaseO8+86wz9m5VmZ++WWuXLS5MQQAgAgAoFD8Bx56/vAf+qGH/kNvf4HOH/59D3rbP/+W9xCovVP697r2WiTf8y3/HsdD9/HdTz582B/8kT+VFCKISaFgA0NkmFQVBKLzn6oEIsLbpQUlIlIiIhAREZRICfQ9v7R9Dwjnwl3/s3pKV7+4/T5VhaoqQKoKJVEVBQAGQNROFBE9vyVtJ4+QAgRVPZ8ZBNWkKkIpqQ+oGo0BSfTBbPu3TJ/2ddKH7vf7v/H7vNJ+Sh/6P/RhqRAUIKV/+cUzn1AHqWuBkrPIHeWOV9cgAgQgETWGjCGV1WViJALIqHGwTMxsmdhoxsTMZNZfrRAlInGWmYig3Ip8/UgGRKTairsdRpL1kQSqgFISSYmJyRCgUNWoFGNKYEmAaiIVVYiRJKIAVEQ1qSiJaB2lCTSdppMzGc+1XKoEKDTJekoQq7YylwdCbcdXqf1dAK++W79b3KpKD3RQAUBoNXta6ZO2DyAGAJX28rZuKighimMlsAEgCIGIFAwVVUAFmkDM4HZqQhUpAVBrkWUc2wEwYiwlZmYCyVppWuXQFIiZGOB26q8GYKUEClIRVQWRqoqKJpYkqb0vVrRKQ4gJUURUo5AoYtSUWETaGU8KUREiVWhCTCkEjUnLRpY1xhOdztA0iH6tYkpEDCD4SQoVm8LlIxDrQ8MAJSIbfRn9FAqbD43tqqa3WWuFKlSCqhAxsTsfl7V+EINjXEY/I7DNh2wL1WQBiAgrjDFEgAqhnUtKSgokgaqKKFQlajtlmdkYBRFbYpCgnbYQr56iYWZWNmCCYTKkAFRFhdqJptDWuKmCmFpzIYlUlZiSIglBIEJKJKqS1loMqGhIiBEhIUSRqLF9WUFMotReTCJCoqahRSW1F+91UWG5FB+AZIhW6sZkfXl0dvfz1eyuJk/sisHlrasfz3sXVBOBAFaVycGX5kffTH4BwOaDwd5zowvvIz2f4CSxDs1YUt2aTWMLl2+RyYhWai2SxgfPz09fEr8kkClGwwvvH+y82xIRGyKCKKTVkdZcAUiqiqTKhtmoaDtrAIIIiNEaudZoxCRNEgKMQeRUOIuV1VZlYgILwMpEIFUBAUorVV1rtRIjSpJESQAICEkhokke2AJR9RExcOOl8qJCSlAoCYighKQSI4LXRaPLBS0q9RHRU0wq0YgqQcFECiL21cnBq/+yLs+KTkeImWV+9pqvjy899bN5bw+iIDq99bnJ/leITBIFQZvJ6e3PplhuX/skNAEksfHVoWpaWypNcaka8u4lXqkCzu58dnb8LSJDIEBDfXp667eTn7OoGiY2UBUReIFPkkRj0phUQc6ytXCWneXMGEMmiPqUUiQlMkSr2aRKRMQmc/m3v/bF+3duilJKGoJGrymqKFS5Wi6bFIwx57orIpI0qbaTPST1SeooddQ6at1I46UJ6r0ET3WjZa3LSmZ1rBqJkUIU7yV4rQOVXqtaliUWpcxKnS2wqOAb+BopEKSdKgwmMJEhYozvfaEuzz7+0ff+5I9+KMvcH/mhD37qB9/XVJPxvS8Qgayt57dnR99gY2PSH/rEez/xkXfHBGI7PfhKXd4jZ4gpNhOoEhm0IIuYmFVi9FNmZuuq2Zvz05eYM2bDzEnBbIl4dvgVFtGkEEBBIqqkYIABUmPYOc4sZYasJWfIWc4MdR33OtzpaJGpsSCjzLCGM0vOgo186/O/9frL32RTtOrXOnwFTJZ95fnP/93/8r84uH9fmSRp+41kyRBExEeECB/ER2281g2a0Epfa495rZNSpwudL3VRpmUtTUDttYlaB22C1I3MK1mUMl3IvKSqophUQKBWsQkMMiBuRcQpLOvZ3SzPN4a9L3755Y9/8J1/+NXvDAfdIu/U83vRz9mYcnpTJQLETMen05OzGXML92I1fZPZQINKTUxEMIZ3d0eZswRiYk21UiKm5eR1qLZy+NQnnr18eTuJgkgBrhuUTapq8VEiFFBDag1lmckysgbGMBMrQIbyHL0+9wfc63KRc2bYMIwha5SgQkpMTVmd3L956yu/U01OBUYUSZESYpSY9PTg9gt/8K/+0f/971RVE1WjaGrBjkhM6r00PtVRm4Cm0WUldUNNoLrGbCGn03Q0TqdTmS21qqkOiFEULIqUyEctK8xqXTS0bHi2lKqG9wiRRKmd9Stgze1pVKNKJNBvf+4bj167+H/4z//MEzcu/cqvPy+qqlHgyXCKJTETk0KvXNq+fHFTIcQgJomlMS1KXEGgwbCTFy6myIbJEEiIlFhTLFufl1I6G88//bH3YO0FOQlS5JQ4CRPDGnaWc0uF48yS4ZWHX9k2RVJpHQS1M4mJmAFiZiYjSb2XxHT06pePfu3vOYjLCmudNSYvitBUt196vtfN3vjWl2698Tobo6opsfdUB629NEGbCN9O56B1g3kj42U8maeTmZzNdLbAotS6RhIS5RbEAEzEUPaJkmcJHD2nyCIqQqsfugrBHhwgta5gm4P0j/+RD9/ZP/6r/6efr4P/8A88nVIyrrBZhxiuM2qFxYaOTqcnpzMmblG8K0YgYmvJMAzIYrEs68ZnhQOBGGwNGUPEWTFsJeacHfa7v/HZr7ZIkQCbORYVYiaCM2wN5UbZEIEEqqKxxWMqAggRK5EBExnTgsjWObeOlKHJFZ3Bxvb923L/S7+6tJ3m+vtuv/rtpq4eeezGU0893RzfDqI+zG6++u2n3/NcJEQgBkkRIVGI6hMkURCEiKrWyktISGmF8xjKDOvgrBIBSpWPMSEJ142KICX4KApYq0KIAlJtPf7a+K+cP6mmrD/Yffzk9ldee/Peh9731L/6rT989Opep8hVYm/z0bwzVEr9vacm978KiVAqsiyaBAIgxhX9nacAGJe5oheaeRtOjCdzIiImqNi8x9YQdLD79PTohRaX//6XXgTAhqFKbC0bVcCQZszWkjVqmXk1xkoJpCQiTLDGrGbRCnC30QcRyBBJGzMQssw9cuOJF/7wc7+8b+V//MVa/7n6VHsB0+PXLl9K0yZBYji+f3s6HR/t7y/rOi8GeT6A6UZoFEikymvltWkQI5QMAWQSIGxhLEXRuiJV1D6FBChH0RjJtpJlyh0RtEmCAAKcoY5jl6tjaecvMVRRR/Se/UH2hy+9/NrLr75FZN64dV9T7G9e3n3sE2CCSmd4aefRj528+Tlr8KWvvawKw4Bi+9FPFIM91USEvLctyUtqQETrYM1k3by3BSJAetuPbl//4Nnt5xXE3FqVSMbt3viUNUwWRARnNHOtPKHUzhqorOJVUYEIMRgkBAIkaYt82JAhZahhsLHTyeGrr7yobKYBBjHP8+5GcTpZ1E169Y2bl65mrIktf+MPf+/may9lrti78mhntN3d2NvYvGy6Q+VeE12CBVhhmdmQEiORqiAKyjmahhQUhVIygKZ1MEoGxlBmiK06qx1QGws6p5lVS8idsaaN25FUfdS4Mdoe/kdvvPSFgztv1E1ti35/67Gt6x9xxUglAQqk7Uc+4jrDyb2vh/JMiYru9vb19w/23hFDVCgBakx341KoxilUqkLMxvWyziaxWQd0unvjU1lna3rwDV9NiDjr7mxd/WBv6wn6pc/vq4q1hhmGWu4FAoiqqEoiIUhCFOU16ASDuQ1OQcRYxRpQZYL88i/8d5/9lf831ACCFuyR1FEVnGJ4pItxFb1Cbba7feHJZz/4wR/+U53R5TrUKWoV2EtXtWBmUsCASEWREqpIIWiIlCKUlEhFW11cMRnEZBhMZBjEsEYzbn+d2ky7OXccBl3Ty2CMxEhVg7JJC0/LipY1z6bLqvZknHE9qK4E1xJMDOesY6nKuQI262e5TT6kRIZJCSElTQQQpIXTTGzWdMV5tEzERpJPvgSRdT0iI5LsoMsCMBN0JXQIkUCVVJWMQhQwDAXWcZiQKK1DdQUnBlmGtWYxHd+/9bq1mW8CKG1bu9tl5+y0CsfLVDl7UCbDPCwQ2DCH1178corpvZ/449ef/mATRGdLKWM0qiAVlURR0HrmmEil/bpVtGPW97ayiYAKEjQmECEZqCND2suw0TPDDnVzglEv6mutG208zUuaLrSu2YsKF67bVdU2AFxxhe34Cjp56ne10+nHZOpGQhPAlOdUWKQkDVNgElUVQw+4Bzy4zupIbAx1hgBIhTSxgc0yQE0bhRGRCglUWQlgZREBwKxEbXis7ZwURQIRwCy54cyys+QsaXC93iCEKBIuD3pPbuWZpeTDNSsbI3ltKd9aGst0fbNbkMxNGnt68ztfPz2996HPHCSl04O7XIyy4ZV8dIPsKKDrhURAArBSez/cxm9YhZ0KQJn5nARjIiY4g26uox6NutwtwIw6pOUCixqLBk2jIUnjqYmASGursCLUHojMMIhgiKxBShBVqFhWAQMEo4kRExRr08xKK2p3NQyrcdCHVWHFa7UshTUPODtKCUkktFEZYFoajckwRAAiUUQhWbE0apkKS4Vja4mZDEm3kz/y6I2vfp62usXjFzYeub7z2pv3QhO6ptmz8cKmi5AXlnx75i/17DN5eNHLJOr4cP8P/vUvFJ3uE8995PKNJzjrzGbHUYQdmCxg1BoGQKKiUMY6voOCmYyl8/lBgGHpOOoU6Hep48AsywaVx3SOWYkmwEfSB+YLZL5X8mvdZiWCAcWkQUgUrOrsyvqmpFEYTFClRMTQdiwEUG0xoqztECl0ramrZ1oYeq4lRCuekkmJWFUU0oYg1pIoQRGiRlFRJaKMucg1d2QMDCmpEowPYTDauLy1ZePiYz/26Y984Nn/+v/yfxONBvWkliyL7+2ZO1OMAydYp9mOo0pTECxmJzH0Jwd3DfTGez6+9eQ7q7L2QkuPpeda1iiYeJWgUIDUsFjDxEpI7dzPDHLHRUaG1UeUtcaoPrKP5FualOGsJgCJVxNNVyJYJyRWxIqSihITJYUBtzKUlkAktZYSKKUEYWkpLoKCFaLchv7KxMxoyafVeK9HgNY6YVv2QaEMtYYzYhWBkigFAaQFbAKBEvmIpRciWKOGEJOCkBODiDUq4MvFwavf7Mqys7XTH/X/0d//+cWyymzume6Hehd50cW7tuovnzShwb7yhZ7ZRDwjUZgYmunJoTP2ped/8xN/4n/VKUa1j65R68lU2gREIkrconiGstWMDRSRwARnKTNwTGpQBvVBfSJJRhXa/npiy1CoJZBRJhVFEzUlepC6WQ9A6+zYtEkAJSI9z8u0EQkjc4jMMaINV1eGxRCUWio5iUKJae2rVlznyiy1lscCEKiqMogJhSNVbo0MJRVSZiYDgSZBSAJlkMRVOgEJEBVLyDN7sn/zX/2Dv3Xn1Rcb4zrOfvbXf/vo6DhFWnifD1zRsfOME9thnj6+h5eXKBgqTc5mADsREeL59Kg7GPjx0fjo7s6V95BBniuzMKhkaRKlqKsEHK2oHUALbrl0hYpPVDUaEwu45QjWBJkSKaBMyCxZCyGtPZElpnWSA+3r1MYJ3MZDUChrm6lYJeKQG84sxaheAIIxaIfHERljnFFr1TJVjYbEMQqgAAsoiWh6m7Gz6wxQG6orA2AY1iRgY0RXCQYwRLRXIEvqI5ZeE1N71ZTQzcDW3fnOi9NXvxHVOmN8NbtzVjsgMxxturK70en1dof52b2DWWwe65uepXtVWiYRST3LZUpLpaqcHd2/Y0x2+9VvLue1F1DWy7qbyl2AMyNizMoHKCnUkJIRyxQFMZIqR4UmBjED4Ba1CTParAtDiaAkVaKYWu9LBCVmVTVKYKz4FbDqyti2I9jSP4YoM8SMJlEtRFY61kAVCmvhLAxgiSwrMSxTUg1RQVwH+KQaFKtRhRJIybZDy7zOya9YZVgmFagi0Sq7ag3ZLieVRW3qJLmFYSRpzZ3GIL2NvTEXibDX706WpaRmlLuisEXsHXqcLcqnjXl0e9Cd3qPIN3odGxbzmE80qZpc4dWAXb2YuKL/0vO/sXP9jY3dx7sbF5Kg6HOv0wuRvEhKRlUJZJjBCYQgiAmitEr1GDK0tggMxnliGQoS1RhJlFVIKZGCiJgJSg8nwEVad8irOc8wpM6SsQLhJkJEC2ecba0VWYJlZaskGrX1MQQFkRQ5SaLGg0iNtapQTSv5K1kBGyYGHuRCFRBeo6hW84hVwTAACzHLVo+KzMaYyqBRtI4UkTpblyruX+wmeE9Nc7VLOx0zU/SK7OY4nM2Tg1y5gE4nHS/cRpa2uen2h9ToIokDODYwhnObtEqh2Lnw6GM/8ONl1SQRZo5REljPnTCREFR4ZUJb10gtz6DMyswtOBKlmHgdWtJ6vkGgLbpm0zrNFd8oSgAxQ1UIICYmZQaxqiJ4bh1AkbUkJOVGCgfDwgZEXNeCxIbBBBBZaEjUJDGWTVrTUMysiAkpqQ2xNWPt+1t8SitPIytFWTuNla/qZWwMQNQAUeAMMyDQqOh2i44tz06mWx3zxGZRBhllbrQ1euwROiv9O3Y75nB/kTIBWTY73eyb4+lcs8SZBbMoQhBnjMnq5XhycKuq57Z7JTZNHdQrS+vC1tFpm0FeIRYoE5iYocRkeZ0VTiSg2CbfhbQtFWh9o2nfqQRt065o53sbirEaYiZtryNCSEREholImGEZWSa5RW7YWTKsEBJVW3BMRFBrSaEpcRC0/FFOZIwqQSLFtNI866OKIlMxBvyQq1+FcW3aoMWq2uaYKWOQUVCCay2XEiGCDaU+e62qgdNHdgtL0ZEOevnOsGOdXCrIlE0MdeQ8c0zMau1YfJ0kUbDW5WyaGE2IZDPLuPXSF+sgT336L5rBozH5pKv5owwoQ0Wh0iIi5VVcs8YbCqhKEo6r4SFeZZkehKnWELexhLT0F0QTmBzEWG6BeMsGMVqn0PoCxaqSQ6k1aKKU9HyiOqt5Rm0diU8qhMwBhJjIGVgLn2SZjAJsNSOyTSIlcGq5N4DbnwMicJsupxXxC1JIO0UIAEMya5xtkwRq2TTjw1EsCeHJneLahqtmfmera7Y6mxvZvPJVMtX8LAs+JFJi7xuvwtYmJVElQcfAi0oI5BrO8uVicfjGtzL7Tx//yB/f3Hs8cRZCIrAmLQNEWVTb+dLWefAqslEiCKBKSbkNhwyRsKxQPmBW8aW0xJYqMbXpEQIUwrKqK2oVqhWstLOxjTYIpJqigECGRZnAMGBjhFbpP20nq2UUVocFiSiRGEN1IBImL0JSWLKqSBGVqFO1rMZS1tpRVSYBSIWJV3EzjJqVdjBIiMSAVFWTKtHhtz/fjYthJ9/LReeTAZtez5phMas92zzFRqOv6zCvjWXRwjUgJiUGC1TFmIxFQkqoozHOZWY5n7717T+cH9967pN/9Pqzn4q9fgpaeySjEhESFMRYl0+1JVtobQyLtAUcaJ1G+1prhExbm9MGv8rESizt0KmSEpmVukMgzOC2fAOr6WgBIrWGcovCKFvDJIbUEJQoqUKUlEGwBsa0FUFqGWCOiQDp5sk5IiJLsKkFpoIoZBgukViYlp6TNryWmNrbU2NgDBkQMRGxqLZILs/zN198/ugLv9YzvG2jq31e2F7f9rv5ZLk4PvPGdf1sOvDVuJaoTCk1IdWJBUZJFGpYQOqIS00Ug0ZnrGl8GIxGg+FoeXxrcfeFK08+mw8H8wpZKYtGfSIbKZyrZGuOhFSxStsawYpDwqpwoI2TWFvanlroYUjAqnBM7bxthWiIGNzGw0kYqmzIWs0MLJE1sOfFWiAmTqqyGqRVrMWtHhAADkli1KQtfFBjYJlUxbZkL5HCtDVPmgTOwCqEmKlVR2ox0ip8I+JEbFZega09Pbzz+X/ydzpxvtnlDat9g+4gd/2i8bWP1qRUl2edZhl9GVSJTIrNtJJK1RE7NkmiKmnUzBoTU9SUQuPIMdPZyf5gY6sYDGMznx+8ZXavFVm/a7H0SDBCamRVGbmWMNEag7Y2g5VWPhpoMzbKMLSa1yuGsTXvACklVUPqMjIETRrRkkLMJNZIZskSMWlrmgwRMwgalXQlcBWlpGRIDQtAPqpPKsKG4AxEJDOUGTBBwTYmbaNdBYgpSQrKooikhpLRdpzbAJqCgmOLN1ZFckxIKf3+L/4PndmdCxtZJjLKedCx2Shv6nrR8OFcxnXqI9i4qL0PySaVTGMVaJxEDHWhNaV5AiEymdwaStAmWqaMbYjN/dtvLBfTrb1LW3uXdi48UWxd5t5eMgNNbdhopJ3SpKREJOeYrTUy3EawLf4zLZeqqwFYczNEnFRUDJEClFvtGIoqAVCQgVgmw7AMY1q/oMxkWAnSBtuq0KSiUDKGtcMgElUkUGHQdRwECeqTEHFm0JY5iMASDLEKRAQWzCABSJBATOIA2HZKcVuWlTEMrwoISSHGvPrr/6/46u9f2egmEZOZzPiOixAUzmz3MtuJG+NmNp7PmjT3WoYgyomoKEwUIUlJtREwqUhshIpuwUIxxMbHLDdCWpYTEC5cvrpz4ZpkhQ81yimsz9iqYtGokGGTk7XGZkxrJ7U+2iKgNRdM1gBQw2tWjGHBUEEiYbWMvk3WkqhqAhkyQOYoYzIt6a1CaBUCIJVEIgQQSKwlCzWmNWwqIDBygIna2p8gIOXMEEFDIlUSSZZMm2sHKaIqK9m2BBSIytxKi0AQUdUWzpGYNvSx+ek3f/f+7/1Cz8mZ52t73V5uOkKZzVp72WfU81NqGkWsY5KIlCQiwRU7g2wWymVIdYKwLSBlQlDpWperiM3Gy5pDzAzXIkmCSqzmx9sXO76aH9/+FlLyIWbdQeN2TGcrH+6ZrKeUksmZmMliXWdNK46sTWYwCAw1BCFVgBlQUVVmtqzOqCNKSiFCldhoRpRbYRZasf5YpdwVouvcDcG2CtEWJwgULX/JUSFtHqn18Kp1UtOm5FXIkGVSWCYwEyKEFdYotzV+AlWKqqQwpAoSQaNQ4gyw7KqTW299/p9VagOIut3+bi+PTTczlhFgykaOT5bTcRnDtAqyCGbeaG2cmDyp7oQqaGqQKWsS1MJikAMSAzFl1g46Tn2UxIU1vlx848tffPXbLxV5rqqb29uDjc2t3UvbW1vFzhXb3a7QayQPIANmIsE5rGytTFu9QsQEQIhkrSEkba6QGESqIuRBEaogw+qYLaulNXl87rtXIuZVDlHXtdCAYZiWWyYmoZSgSszqjAbhlFbVlallWFsMRaRMSkSuHSYmXlOOpMJECk1KIKgKiEQoMU9PT1/5nX+aqe9fuXrn/vGot8WbGzI/SjaVkmo198bTcj7pc/TRzBu62xQ1Z8bwuKy61paNBUFUEwGGwciglqmMsZvnF4dZHXj/tDTQnAiMxjfjk4M8L1yeJ411VR4d7A/u3tzee+TijXegs236lzUbgpyuqK110WQ7DKv6agUgQGrJudZRtCUH55QRVIksI1sXGwQFK7sVhwZVRKUgmpRjUtFVAMEEw8rEQpoEKTEbZYYhBiiJGF6lfqEahaJAVW37C5UJUEPExG3Uuwok1g5Y2wnAZIwaBjEfH94/Gh9dzTtkRnYjzVP9//zXX//Zjz0hsRr7rOg6Y8aDcKJVVdGmPPauN7/6IiWxJhEZwwiqiaw1qsrOmK6mGKLCWdJLQ97r6awxzcagFmmiiCob1+3kxAwSjvX4ZNkfbo6PQwicOL/8eK9nGs6CKQoBLz0lARGoNQmryt12jq6Sj236SRVxVYqsayJGDWnrrYUlJSaosWBKCo6CNsBOaVU0IkoMNazWMINUtFnpB4wSEdKqbsqIAKDWVQsITAzYABihFiwLkyNls3JZD2e923irDcCImEBFpzuf1acdeuvoYHvoj09P3rxz9vxrxx98bK/JXR5P9fhmvWxmw/c+/jN/9anNi7/y/F/INY2MyU0a5TqwoU6WWC1lRLAixlDFqW/MwLFhu9ljl2HaiJAtgkzrlEIApMgLgVZ1c3q8b0wGpY3NLZQnufRHzuS5NjyMYgAtrPYyMqSNoA4ShHxCWhfatPeWVumdNWYC8YqhJoWKgEgdg0kEHBIFQVylettZT9bCMhEhCYKAQFEhugI5qdU5VWmJZmVi1lXKBkRqvcASrMIQiZCyZtJyD0grem6V1Gj9O5OqUhIdbm1P5mFyeHgyS92sODmtnnjs6qW9jcpQL0s7Z2/eMV360J/7wI//Ly88+tQb3/56m621jIxoRGI1RbVQYkopiRKsIUvc7+bDQd8wNd4XztgsP5z62dkigHY2+9Zls9priBBpKp93Ml+XR3dvjgb9y1cvkYa6KgPTRt7p5qbnqOOYkIggyk3EpNYy8DKiiVgtdyFlnC8n0jYzTESJEkAGxrAqSVCCchQkrJPPhla2k0jb1SKiIuvkCrhVr9SmgdCCfAJpa27WJcuwUVa5ovVqBCKFbZfHEAEwaxsnsuJPCEoqWTbYvvTkGy/cIjaLikZbo4u7/dyh8qFfLWdXf+bqT//s6MoTTPA+MDtHbAAmzViVUqUmqmRsm6iOKTNiwZxlg17R7+azWXU6b3ZH3aZp9k/m06VvFD7oaFDsbA8N5MJmt/FmkdzO9cdCU+3ffj00yxvveG7j8mP9nmYoM3QdrFVmNsQsUMdqieYsxtBEEWWl2q3s27TZg5Aa1Ob7FGBZSxO8Zjwe2OZGVrU8qu1gAucB8erQh/DYSnWUVgGubdMCgWGhremHcGpzfgJuS7tpRc8BvE6xqmH73h/8kZsv/p7lxhnJGBCdBzfMNoef+WtbV590Lvc+BlVnnXJhnONQGkEQ68HLGEVs0BTJOceZtaKmWxS7g0LqejJfWJdXPp6Ol8syJFUVWja+SdEa2unnwyJLFLchG3nKrj9ZRkjt773+8sn9O91u99K1R3YuXslGG2iXrK1YZXQISpwl9DIsGpkHxBYPGawZBF1HxtTecVv/sZIq9DzTQ4oElXX+QM8XUbVVPnpefbJa8bLKOINknYBu7YvlNru3RmsCigoiZcAoMVMktmhzTCKqDG5ddtK0d+2prWtPv/TF38opXb+ylRXZ7ka+9+5PDq4+k4AUAtpYmRAFAiQggEaQgaozJMRBTddqPzNsjLN2d6MY9bP7+6ciGGZmVvp5FcJ5jY1KjHp0Wi4Xda+bG0mWyKVXdHa49/T7Bo8/3R1udnobeafT7fVcp5u5wjqra1aiFU+nQyIIkeeBzmqdNawilklUvaCVJiS17P6qtKS1OdyW2SkUCQ+SV+tkThti63qAziM/Og8LV3/p+l0AAGuZzi/VstqMVheQoKnlQ6GGqbVFtObVSdUVwx/7039FYE/3b33n7uSxK2bz3R/YeuITpOsv5VXdoABtpQCBOybuZGkqLoItoWekYLXO9vrFhc1CU0whGOJuZheVnwcBEa1WKxko6uCDUkhpmFMvc4woy+PJ13579vIXabgz2Ngr+iNia/PcWec6Qy46Rbfj8l5S9iHW80XwTVMvU12JX8aYpF7aTGFcLZnvbrmdx/OdJ+1ojzJGSrxeXdr6TdUHrNhqDq+E21JROB+G1WK19QCtrBq1Fn+V7EfLM5wHJasClnXZAYPayjhRaEKbnKe1PWI1LLp56caf/St/i0IYj4+c5f7GNttOxIq1br8nCce0WpQISULkJbFEm0hgLJmQEqkWRQdZEWZzBxHipmnqsiZrOAjpaoXL+apDJu1Zd6HvLm8Urutm06ouF8ujo4W8oM4Za9jaDEpgAbcZyCBSBylFksIYm0PzTLp54SynzLqsYBCizCNO7Si7+OTg6R8cXH039weaRJOsJXvOjL39WEv4fNavVjnTyivgwUurvEWrB5ZYz3OQdM6krlNHbT2MANyWTK5AdAtKSQikCWRtke9e7q6rdIVWkSFE0RLDkjxUE1EyGpGWIh2jmTaRLCUOVAxyWzhTNzJbBrYZBCfT0ifqO5qUMSO1hqJSIjBTP897FhnzoJtZ1nJaVvOarO3nxntqGi+erLWlEhM55kRoYlr6ZhmkSRQFgGacnAJgY60l7maWHKsxztogZ7ODNyav/L4ZXR4+9tGt93yqc+G6YSMpkSRar2H8PkebuwEpWrb13PzrgzF72OJgxXW2wPfhK61i7xb8P7Sk/Hxw2nC/TckgqAqpocSGV/iABQRqWWCi5XIZY8yJnIIVQYxRiSkpU1QyxLlBr7CkksBeOQhqiOswL7zjSGyUKaoVkHNmM+eCYjejykdO6WRWcpKupY6DMShSdMwgEWOVDFMi1oJQKArBQlKzIp6NqIggBHUcWINLbFjZUZcsFL725dnR9Oa3Dv/gn3evv3v3/T+y8cRzbrRHmtplC29b+P7QwdQu8l0l6FYo91xtaC1eJQC2pYXwoCLj7cO5Bmnny9ix9gEtxSh8bu9J1Uhqi9JbN74qCrOO79z8jvdNkVmmBMAyCEhshbRRu8HcNQYqTFBJiaBEw37Rs+ZsVvedUeYEG5lUuHCcvK9Frm7ng9zOptPNgpCQQ0OIqtLNbWHEKrykPDOZsylp5AiKS6PTWmeBk2piTgYQVUibaR0abIyKmKIPwZIJnBZeDAHN6fyF35q9+FvF1rXN5374wkd+ur/3aJKGBd8lNdUH0njI864flB6S1cqYWsMr0/ZQ3cN6/fGDIV3DiDVO5pXSrOAdrTE1AEAUECEhIhYi1qb+5vO/AyCqeggghREAjbKCrZKkJkTPpHUQianIjGVjnS1AxnA/K5REjZsHnxVF4dzxsiwsdTNxVG13aCPLFk29rH0GFUQWyTOXgaic953dGw1isrMGvkEnhJw0h2+iqrXGOGeoYxMbr64rAVc2s+7G9tHJbLxYOpdvaGe6rJd1bXJOiXRy/+i3/+HpV3/9kZ/8Ty9+5GcgIrI2/GvS4MFD64AfMjz6QD+EiUSIAIvzyhMlWfE/+jB4Wvvy9creNngUkFFitQIhehBpQMBCxLziG5nJ3n3r1be+8yJbm0DSAgAiS1YAA8lIUrI+SIwxKVzOjsyCIAAZIggzhkVeDDpnE+lmZtb42oft4eDqRlHU44VIxsmRDpwMLYVASdTEKiQ2SBJjXJrB1qCbu9MJgoaMQgdxUiGkQBQsmw1TD/tiur2T02p+UlmtdzZGvb4jGJN3T2ZZUxWny2Y6C7lhUBbKk6N/8bfd8nj3h3+OHKBtEVESqBGjmkTTg0rolhWilulRgjoiQ2pZJaGB2iAr17mKFaRN17Xl2+eR+bnTBgjCLbYBgQSwaHNDa8K2dSlG24saZ29+++vl7IydBTQKR7VMlBsvSqw8sGItZxYZSd7tZkyLee0b3++akBJC2uraCxuZK9gsEvzyrBJHut2zHQ5IamKTZyDT+FiTJmbHNiMESkGUUtDaa7Ecc97b7LNvooY45OWGsadNgEBETGjyxAVTd7Mzm1RcM8V6NBjQaEO9R4dkNNpT3r93Gn2jyCpDhnz9m//9yek9+4m/wDDHt18Rv4RzFGT7xjtHlx5lY7FqB9BmG1VVLSkrmNQQMqZEIkltXHHlDxRIHujLisJlXZO3D71TlVRIiaKqMWrakIvOHT61CCqJ/843vwiAFcSISqJkEE2b1iTjDEVOQaCSciMm4ynRoOju9fM79076Ri8NsmEHeUZS8HJeDSTlPd7IdDxd9lQtUs+kpFVKgYgKYxptRLRjExEaqPd1qKXjOp2BcWzVcTBqbGJTB9+0d+NSyuW0t3uj2+2UpQ471XR64NMjUXOw802zvbs5emxrdjKpkplXGhoosf/6L731zc9+fSIMyTu5s26wdXHj9gtX3/GBy898tNMfZhBLCkIdNei5raKoiAlQFhX7EGVxbmMQH0K1bT6+feLhdN+qdFgVWFXgcFvihFYBFAxjeHJy9NYr3yQ27aUjcZXo1MsImmIbq8JkhbAJgg1LMch4XG+NevV0Hqez7X6xM8g3e5ay7Jg5QDdsY53ZKmiy9I2UW5mQwEcVso5SxySKwTAZikiBNXVcL6qrmroz7I62HKwLpV+MJ5mpokGMEIUDcgKFxd4jT3sfbapJp6U/1sGN8Sx0HJdnR/3BcGuzl9iM6ix4jeVyfOrfbZtlI29Fh5RCkvHB3bPje4c3v7k8fOt9n/6T+WgrqsTE0hYjtuIliK4xEJF1rCJtoW5rwgGsClnX7MY66ls7mvXyvAejofow0Q6ABKSCDPbeG6/V05NeZuoY2yrBpdhxpclJIHSt63Q60XDR7ahxCp3PQ+ObeikIiwv9zI66GwPa6qOMFaV6kJmp5FS43LFTE5Zp6ZUREYMDM7xDnZCMGgYrIsTH4I0dkBIX1vZy1+0Os567e3tx3EQO1TKKrlYDUnNqUG08+qgGgbHVzZtZQXaWYl1HxeHscPvSXq+Xd3LyDezQSlnmGj54pZgd6/2TZa87sIaTqq/K177xBXKdd37yZ21nuCrFfcjKnANKBdhAM4JtsxCklsQSrLZtlIjW4IYe0hQhCCGpnp9tJXcSSkJJOSknkICSmm9/7fOc6stdvtB13DaHUK2JS1iwJQ0ndRXJ7G138sKdzptlCBe3OjmlPuvVq5uXdnubu72ilyGGLsLjW/zIdnfQ7RSZ6+fYzjMf5ayMMfgcQRMFAdpAOjZs2GUFJy1s6HWkO8g6GxvMnOK8KFBk7CyKDM7AKCxgJBk/644GWb/Xu3yp2+m43O5c3PSLaaqXWjfj+4flYums9px0Ory91dvMzQ2bPvjEha6L944PQwpFnlumWE1f+/JvfueLvxaWY4CItcUsqyIwI2QERojFCta5uXZ204qmOKdTzUOvyppQwsNRxfnxAMhCAGIenx689KXPWqaOTYPcNpFnTSIASWtma8lZEuKinwdRitGXvtvJr13r17PFZrbVH2ac5UaixMrmWd7NbK97YXMwSnLpwub8TCo0WY0YG0UMqclMLpK6OWI0KbJz0bksNZlGyYo8VcuUdRTJdTqB2OQ5N5wLoDAWmYVVkFTEakzKd0bDq4/wcLM6m+XqfbPssIlNvrjX9OlillGXTXFxtDiNcnr3kU/+lQ8/Sb/49/7G/f2DG49e73QyhZBfvvGHv5Hl2RMf+gm2xarOf60La6JI7ZoEx8PYnx745beJmB/yDfow+/G2IVk9Za177ZufHx+8tZkza+wiXOqa2mtQWiYqDLNlqA7yYm9QAOqbMOrlFy8M89wcLOauVwhTUejkrYPBzkZv4DaHve7myOTu8rBXZMnPUm+nP5tMHJueKwiJEAwCi5q07DAxRTaUnDVFwTDWuXww4CIjaygrrHMmTQN5iiBGxiALmU60mmkSw53+lQuSqL437XFDqSEhSaXEPM7dhccfZUPKrr9xabG8Fw+//IGf+ftf/t1f/+bnftMV+bWrFzSlYX/g69NXvvxr1mU3PvCjxmbrvl/rQrC2FheQ9mQGc8v+v+3EQ2e7/Ol7/25PAzVQJmlrJZnw5ktfpRQcIYkYxA3jR1mKSeeRyoiW480dex+KrDPI3O7OYGu3Z1kyaGgajWG8f+BjcM51XDbqme3t7u5ud9Sn5uzo6P4dY3l7M8szOKtdp92MrOskUbDCCDMZ64xll1kQ4LJQLUTF9rqu23EbG929q8VwIxuyyyEKI0AKqSzjYpbqZZabrLCZCYVZ5qQEn6W6iPM4PQJp3u9ald7msCjs5eoV1xzuPfK0qsxny/lsGXyYzKaW3ex0/6XP//IbX/pXGqNpl+iosApByCiR2vXSGKwpuYccxb/leNgEPfzGtiptZbwYqmE5PrCkDAkJIXHP4ULub3pZJGcFnSREHKF3Ds+uCV3byvoDx8wu450L/cn+YQzc67Hd3BaN1jiTm5iavmVdniyO70lqOLOsUNGEUAwLmxWaGMlIkpQiqapE57pZZ+hGA2LTlCV3e+prmY/d3p7pdFLjsxiTLlqSUaKmqiIB7BIZsclBIXMIMWrQjEBJCo7OaVqOF/fu5BvPcddubOsk3nznh37oq//ml8rFSV17ja6uy+DhOvn09PDVr/2GyfPHn/sRazNdJ2BamTOTGm5zm8prV8yrQpWHzpUDUebVe1YnxEAMiSFpXTa3tTMKBmUub0swU1QIHGO7kzIjIhrbcgTRzNnL2xs5xbzjrCENPssyiVUzO6rm+8OdnUG3T4yGNDLPxyeT/buTgzfr8ZkDNHpSKvK8tzG88NiN/u4OW+5uXOz0hiKqpsi7w+4wz0cD2+/ZTjfrDV23j6TSePhguwV1B5T13HCDu23RoZARM+gARDGlau6AzIGhTmABItgUsJzM33qlObqXZqfF9pbb3N7wtx57x7PPfvSHNGnwQQiiOp7MmkVdzar5eHr7W79/9NYLIgmkBjBAW59omde111jlhBWQ81T12gOsPMRDmU5eUxsPPEHLfqw6Xqo1ZrS1R0hKXAnVKUqkrQIjq6e1xijJOiKTGb683bEsuUkaQt1EVZncvRmrSSfrW2sW+28i73k7XFSNqxbh7JR8HRYwFDudPLuyMy+bjYt71DWsS9vJ1IpYUwy2i26n188UEbmyZdfrUW6RITZBmOJ8km30bL8gdy0rCq5u+3u3s64zNpnBRnWwL46ts4aTdRyTpLiqy1If57dfmxwuLNtQV53hyBRZv7rXHXXe9/Ef+9bznwUSE7PhpmnGs1mnKPTw1LHdf/Urm5ce7fa3HhBGgCVNrRFqG6Pow8J9yOB8H+Szct2yfn6NVFeFAQTo3vXHG1BUW1hxhpIKk7s+0DfmEsQq1Fsza1JIoZ9pLMOyauaLmdHYLOe5tc7mp3ffOr375ujyDTsaueS1PkWqtYEPSCSJOdsYDTsVsaiPhmA7ucaQ9/udLoxjWCoGI3XOZHlqaknkpNAQ3bCb5hO/fxbryrrcDjbMRlbdv2NMHce38+3raX5aXH+KE5UpKhInNB7WwFgg6PjOfDbDaFPQNNLphdmpll+2u9WFG48RsQ9NTDGlJKJEqa5rSXp4/0Dxe73tK+/48I+BXUtlKtoi9Za3Ng91yvx3Wv9zXKRYLWxdvcpJgVYFiEglPf6eH+j0t4Nf7nT58mhwbYTGL2MoeyZXjmpME1E1qVzWG6SLplmUkapjm2qjUUEhpsnxfQ1ajw+qkxNWUV/HiMxDAyLJ4vD2YPuSzU1aTihzzM5mLY/aVUkxCixxnjMoVpUaQmYNgSSqMVRPFrdfq5qoDY0evbL97ieMIZ2LZlV1fKc+u5tfeayezXw5S5VSBCIkQQjJIASooKnScv8Nk1k/uxd4g5GCb5i5Wtabm0PrLBHHGAFUvvEp6n154ff+5Whr5/ozHySh1RKaDNC288WqxPE8YbOKhR/EcLpapPOwNuiawMY5F9dy4qqawoVrNx5/7qNvfOm3BkUeVBNwdStryuUow3FAEFR1Cp1Yl/C5iqBejotQaYiwkKQ6O20EKaE6WS5rABg4REUIQILNIb6s52emjBJqzfuwmesUJhFRsr2OlN44IzGmJARVFpMkLoL4hrRcvvWGTpukqBfIze14tQdiKUX3OmcvfdvkJpTLsKyqpvHNeSkumJBnoAQwYo3ZwRLmlY6Uze515ayazQQiYBUJMXSL7nIpImCmlNJ8Xh3evffiH/zGxs61je2LbYLZ5hxlHRa0MTnWJRRt8lke6py8blRynnaAbRHTOSeuq9FIACDW5J/+6b947+U/tGZ5b9akEEygrQ4/ta2TAy0bNDFuLXWcyVaWp9Cob1RSEiQPSegUQIAHoqCqsUxIOQoCAz7BZGYRxMaSgxdJVSKykZgSgeuUMxNCippqtXlhM2eNZYVvSr+cymy/njQuQBQk8KXWk9OUFMzRp8nd8fa7HlM15WRSV6H2SAlRQQA7yrrs66QCEfg5loclGUyfep+6DiS5LKsAZi4XVQqp0+lOJzM2bF3WNNWy7Ozfem3/9W8MRj9krIOCo1JqGxsCSSGkQqqsupYpazo/1+vCVpDfQokSkbRLEK3CAszCLIbUAOqbp977gR/49M9mMcTov32KV0/CWelF6dldKoMsvJ76VHpaehSFdUi+0rlHKZgHHM0wbVAliCC3cISpRwJEYHNQjmUZ55PJZDyrF4voK1FfLychBE2kIknKanxM4g0HpiCxifW8np5KdUahZoUPqKaQgJCQEkWv3MX07gnUZFt7cTZbHh/W8+gD6gCJMApr1NcSPZqAKqCpoHNUIS+f/immYBxvbO2xsWVVd4piNl2GEHv9rqg0vmGlalFOzia3X3uhWpyhXR+n0tZckdHVBCeAVVnVIBmkFdxkNaQMYQgjGUqWhEmYhem7nQcBKzjLYlhrH2+eNoMiv7vgN+edk9q9MTYKuZCLJF16NETTOiyWjY80i/CEtnKwBJZABAIQLdrWPnWDxsN1sRCd1br0WnmeL0hjMFIj1aGaSLPUUOcwEuqUKlAEgpSn5cEb0sxSOdekGjAvcVJi3qABVbOqKaURPdsPw8eumN524yVFNDVCQuURIxKj9pgc6tkUZyUWHguPpcfiXT8lNz5EEnvd/oWrNwR6Opl0ez0ROTs9U9VOp0tEbcPmUIf7b948vncTEpnVOpYHYjs37ec+ds3/nKNQoE34r5GS6kPPn3+uZVOJbXZw/9aXfvfXlnOZqQhwu5Suy0qvtxa8U8hxg0WjjdiTcnlwcDZiKRwsQAHSrgLPjUHyAXOPOoEFpwEdQqqROlI3STOBEXLMDnnufOM1hZBKm23keT/PCo3BL5eOQnV6lMoQuJQa8CgXOF5iUqLXASXQ3Xk3Qhdm792PbLz7WaW8e6V79NqrISJGLD00AgnLMyznWJSIQChgDAZ7V/Ej/ztSANIbDJ9853tf/OJnF7NyMp8VvaJaVtPJfDAaFEXR+BqQUNenR0cnt16/fOOdedGzDHk4AfkQCXTe7im1CeXzFHwLmx7miAzSuezPkRKxGtYXfusXe+W9kt1ZpaSoAt1aUkU6q7RnzYVc9ms6q9KFkaTC5AQDmQtyQSHIcmz087OzcunhIzKgFCDBWCwUVtlxhCWXcfTqvTRV48vKWtI899U0c45M4qynwdfL4zALBCDCz9DUmNS4O8NSsJWjmmgx0eeuma2nHue9G0mBFKvJ2XKyaGrMSiwWyDNUFc4WKEuogC2aBBrm/LN/g/ZucPBE6HYHuxcuu7woimI2mXd7nbzIJGpZlnlROONC4yWIT/6Fr3y+Wi6pdVtYVzwQwAKl1awH0KZW2nLcB2HC+Rx/u8aszNeKMVW22b27b4av/P/++o/mXzt0/+xbTRUJMU4aWCaIHJby1KY5rWV/YZ8ammHGrEIRlFBHVApEGFPFyFMvWYIhhAAjkBzJwIp0DHKbpeibRi1HiYkVbJA0sHaqshIIVwuEJfkIQgyolpgtMatw0mCZQA6HkaZj8+wg+iTkBpJMaHwql29+5VsHB7GssKzAihw4meG0AimsggWbA2z9yb9mn/1JCk0rio5zl65eH+3s1eVcUS8WyyzLjDWiulwurbV5nkOVIHfffHUxHW9uX7Dn7c0gumo8dd7eidZ4aGV1HjY3IKaH5f7Q0WoOe++/8+v/4DOPTp56fPDu90i/z//ki3FOGnxkk4jNwus46KWuvLX0txd4vDAUY0dQBYwDxQhPbiLx8qYrKMhSvMATBgV6BcA2y2SQUa+g6UyZIIImaL+HEDUZjlqXZWBG0SH1TTPRVKGpEBrUEaVACFzgOPELJ8VWRz6zFVPS8eG4n21P792/+52bt24vpzWQYAQCHMxwlsAMFnjGI3u48VM/M/rMz0lqsPaCRLq1tf2O97z/5OCebZoYQ4wxhMDMxhjvfdM0WZYVRRFjuvrYMx/6xI9ad15QSueGXIV1VTFxHhXQ+Trhh6vs1u/Q71IEhS2+/dl/evHwf372U0871IuDW5+44d48TL/xGgVmH6VtvHt/Kk+OZFD7NyduZ1d7MTkFE0RRKkUyN5dcEXZ7eXJ143WpeGYDmcOSqbCWTUgpwpjo24J+xAaWwDEarNKN2ZIo6HKGZYkYkAEdi4zBFtNEXxrbswajPE0TLpmiqX395s1Xv/760YnOE1RhGRPBokaMIEYUGIv3PYLHPvmx/Kf/Bow1Es/bYAHIM/f+j3zi1Re/dns5Z2sMsYqKSoyRmZko+lADOXDv9s2zk0P7MPUPtL0i2h47a8r/e45VD66H1oTL29/IJju4+UL42i+87yIvl3E4tMgGWi4+dLX63E1uYpYI3jd5ltVB3pjoVkH7y3Sr527YqCl0DEYZmaJYVGEe+fZEmqgZTK3GWe3YOKulNIkFTYIaikEnc8CgyOEIRYY8AxRZBgUlr8sxJnMsAkQxLEAGZcRdoS+e2cPKGaMndXar4b041PvLw3t3jqaoWryrmAfMQ1v4hIVir4vPPInrH/5A/ZP/LXU2kUK7pct5NkWhuxevvOu5jxzdv7NczvKiaKratNsvQEXVMMeYKISDu7e+9eXft2357bkpofPVN+e80NusC7DGRQ/7g5WDWGU5uVxO7n/uHz6zU/U3+3E5jZ08paaaT3pCw6xzsmicczeeefdP/4X/tJxMf/kf//zByd1kstdP0N0tLmdJyZDLOglZTjGmI28Ol7JTSFTp5vZo4acB3mGcbNakYimpSj6CgX6FwsL04Qy8h48gobjQyQLzAAE6OUyGw4CXl/jKKcY+cyTMFJTOKnf3/lk5j5MSMQAJNVAJ6oioqIWs0Q9cwIeuovfhn4g/9tdN76KkhsGt8B8MgMJY994Pf/ytV1946VtfJnagxhDALJAkEiURM0JDRHfeeN3iYT+qQGptjZ5TEasi0++jCOsqi3UrT1p13zIv/s6/uCD3djZ7oCrPqJqU4K5j6DLt9Hs3PvMnPvzxH37smXf3RpsG9NS7fuCf/v2//c3nf38h7tWxk9GwyHFls9tZnJWRRi7mLEc1n9YuM5pn/PrCJeYQUqEpY2FWq3AKBqoEX8M52Aw+YDaDr6SqUQkMgw28x302J8W14/6lH/7JT1y8cOmf/r2/XU7HyPKTJt46S9IgA7oWJUARoqgJS8XjI/30E7g0gP/AXwg/8tfVFRobAn9vma5CjXW7V65de+pdr73yYowRqqJqjCVlazmJtD02QFxX1UN2/oEa4G3WR7+v+NdMRTv3WaEqxOTct7/021//g3/1gW2/jXpnSFUlGpb15KyeSH71Hf/xX/yvd576AaimFEJVB+DSY0/91b/593/jn//jX/uF/37u/eHClSUPhu7R7a35/njQH/abZcZx5rVS9pIaAEGjiJCIQZcgCg90LLyAcpopJmd6usSigiSk9fyw2zuXP/iZZz/+p7auPVV0Bp2iZ5hDkn/2d/96wdrhFKGjHAPGvEKpUEEpIMUn9/DRx2F7OLr+Y/0f/a+YLaJ/0Fy3hSZrgCKq1tqM8929q7sXrkwmZ3W9dIaTiogYY4o8jzFGUWNdXZf2/MPf5Qv+gw5RJWI29qv/87/87C/9kzSbVt08y7pBonXu9Pj08CBmT/zE4I/+l5vb10JoVk2SAAApRpflP/2X/tdXb9z4//zdvzWeHaaiOFooJRPyrUGW5qGC0dzyPNu8Xav3PjVLESLiTHXHqTMQYLvAMEeZ7P2JlIu09EgKznmwvXfhkXdcefZjj3/ox7evPEEaU0ok8HWlwCd/6s/c/PrvNd/61XdtixM4oulYZwkNsAQM4cM7eO8j4A7dt1vuuT/PttBQr7KH662boG8r0mVmZtq+ePHRd7zr6M5b5WLChBSFmZlZRKyxRAHA5oWLdo0316j+weqWf+uhD9aZY7VdFVkV+dy//id/8Gu/cHq6eOTCYHOrZ63W0b742t2TeX7pM//nC5/4j9nl0tRY8X16fg3VFOv4gU//RH+0+fN/8z+XZrksm+NFGUWWTkPMvI8bFy//+b/638F254vZ/u033nr1hcnB/aacS/KRYt+5QOEwNAuy7Dq9671HL1zZvfbo3tWnL914ur+1Z10hKcSmelvOlYAYQ91c7NGVIWLI5ksJIYKhATnhyQGuDDALkOFFykad4Y5IS7mvGF+0bPG6nWVbLdiuCdy9cOnGU+9uykWn20++jrFhNmCSJKvqZ0nL6cyqvJ3JWZfDfdfxvfqxavVCCqYUwm/+4j/40u/8T4tF3S/M5ZG7MGTpd+8s3c3i0rN/+j/beeydFJOm8HBNfftXiwKIKDT1M+/72M/8pb/2q//w/+oMOtYMMjeLUVPoZunRJx678vR720+9470fgP6ZEJsQA4RVhJkEGmMEw7A11hiXGzba7o+SYt1UWJf0y7qegxTMxvUG9xdpPkJfPdfICCzIBf0MLsNUaGtnCxad5jb2vxwvvbeV9kNz9twEPVjVIkkGo83rjz7x5ndeGmxsLyenwfs8z2vvqe22pkqElALr+dEiHyXVB+z0+Sn6tkNUIzSi7UBkfvOXf+H3fu1f+CAut7v97Jk998brb37xFsUn/uQn/7P/ZvfRd4oPmkRFEx6c669dDaeKJu/f/aFP9Yc7jozlFEiFso7VDmJnsCuK6H3tm9rXjfciZDgz1tosY+vY5Vmnl+U94zJVjt43dd34JqSY0DrCdkO69S20f1t55Jn3jKM9bjCv2mWPsIrCwOQoGeZSt7enAznc7VXy0v+3Pr0PtgoSsDAL80pEREokEG03/yIYw6PN7b0LV3d3LhBz3u0VvUHR6bgsE6gSe+/Z0EMgs22A0kKqtgnF20Uu5+dDT7OxR/fvfPHf/KqzbnujP+oXj14a3D0e39r+5BN/4m8+8uyPW0aKAesNCb5rFL/r9BKzfq+3e6kql0YSfJAUUgqNRzADAOeXWH3kbUdan7Lqfdi+Wx5qyPn9juH2xYgsKi8CphXqBABkYTq4cJUHA2+X46GTfo7dePPwsz9fhxqrdfTaNsKNqxaCDzARg9i6vNe5cOXq7oXLedHZ3L24e+Favzfa2toznOd5B0Cn07HftRZjZWr04UgAD8g4eqB0K0vK9Pu/9avz6cm1a7vXLoxSM+9ZT0//9Md/+i9nrhtCc37lh9bHrr4lfS+8VeRZZ+/itZuv/2EdJHc2RC9eehHssiRte0Jeq+v3MZUP384qu6cP9bv/HrihCca6KKgqdQlIsAQ1qDLqFtjuiNSSGDCIS+3nKb/5y1/51xc+/jM/h+TbzugkxPqQU1zNZRggN/n23qXdq9cunRzkWQFjrWURMS73wRvSlNIDFPQ9xzq/9b3oaEWTEpgnZ0cvPP+5zVFne7MXYpXFcP0zf/7ax/8kkmgIa87iu68gD5byAMA5HagqStTf2klRy9zWiWLgJlIt+kjeX/Hlq/4w31/o33UDD/7VB4/nfvjBj5FACorwgoYQGDPCzSM2KpdGShGxQgZsdPXRXv2lL/zC17cuPvfJP8aASMIDO4r1morVYYzZ2t7Zu3x1/+7trY3NqHp8SM66vNMbnx73er3JZGIVaU1ftr5JHvz94PbWhP86SwYgqRqi43t3J0cHg0EWmmXhwiPv/7FrH/kTFKOkB1nl7z3oIRkYQteprDu4ADLa3NWkVXRkbBAJmoGSGe2u6rVVCZr+nUBN34ZSHgzDqhBWV26/fVZSkiizSlngAU8Qg9PUmw4vv3T66iADCcQgBcxn2LtYv2s0/vy//h/88vTdH/1jvcGOqNcH39tC0tWVlbTo9i5evl6+c5FZs1zMDg/uFN3RhUuX46M3xmen/Y1Nez5+6w0JASjk4Y7633O0+JcUhPHxAcT3i6yHsHf5sXf88J8V6Gr7rreL4/vJCQC03ToUQMuViA53L0RjSy8oKKkWjGjy0e5lkSjrXcy+V9z/tmcED8G8t9Hp7a0IG5vIBUm1IBAqZ5ZCEzP4j/63/9Vv/uO/8/LxV3/kMbBiUeNwgcrpjdHy/uLo93/pH5+8+cIP/Phf2nvknUjx7d8uilWcxtYON7av3XhKRLZTnEzOTvbv7e5d2NzevXDlkflszG33Jlnt5bn2sxBRiSpp7Xxb/9V2RwAJSJRURG6+/PXtre7Tl4ZX+vrsJ37WdYYaZdUQ/9/vSCJlRBXhRaOSimzsXuai2wgnsCizKlyRDTYTkpA8jKBWDpno/ExtR/2HnjkfEl3r8hrvtd8ety9dQ2c09pgGTAV11HGFRbQ7l6//uf/9f3ty4UO/9zqGXeQZKePmCXyQx/vzba7ffPnbn/2lf+Kbmr7rW1rdb/9StVk23Nrqj0abO7tXrj2+sXsBxtmi2Nq9uHv5Ouv3P74Xs7ztNVUlovHx/lsvf31r2Bk4f/WZ93YffZ/E8O8v+pUIQEEQEkJSFZWUur0e5YNorapCsYw2uI28O1jtqfuQ9OXf/UNVV/Pp3/F6St3BRj7YHNc4FEwDlg0Oaw4pNU29c/Hqn/0v/h/z9/7sr7yMwqgyicsPlnaz437omUHXpju33yhnk4dE/90HACLkeZFlmcuKy489fvnRx7Oi1+1vBqXh1i5DlaVdIPn2jwHf+3x7zwmaIMz25a99WZry4lav0yt6z/wYyKmk77rO9xqH8+ffdlm0O32oiGTdTne4ncAJVkBLkc5ot9MdrGLGVv/a67TnA4C8bqS+HqZ1TzdFu+B/tUHXgyOJsssH/UEmSIkEOPZ2IYaURFIITa8//Jn/zd+QD/4vfvNNWlbq3QCbj2t/79JW53qRrAQ2fH7F73u/LU9jbKaGBhtb1x95cnNrp9sfDEcbxmTfDUMfNpWrjvvrbP3bYCmRr5Yvf/33ruwNd/q+u3m5e/EdmoLqd5F3K6YE5zn/h7NqD7wOVtlkhSqKvNvf2Tu8fxOgDM5DkGVkTQvwV5T4QyhUH3r83vtHGy0qa9ts520eou21FLtodgY4iTpTPhXbVqkF71VVUrCWf+Ln/o+/1em+/Bv/AKiHlweDbv7N1w9vH8/R3ViBt1Ws8ZDHf7CCQgG0LfPZmI3tHZcXjffdXk9UbFhjm1X7y1UAsIKFIGJZD8Y5egGMtbde+9bs9NZTV7dI6uG1d5usrym2jf5AtO513XZNWI0LnW/Kfr7+D2hbSzz0HRCCy/J2z4AQUQXtbu1aa5K0DfJYVcm0U5ywbuLTDh+dczIrObTNjlRIQZD1B5Ta0gIyls5OTnV2MMwxY8CMHFMHLJCDe7cvXX88qUgSIvODf+rnfvG1b732jS8uzdGVjeLuWTOrmV2oy7LoDZOu4gxagWw13G4d0aIZUlFWEVKAe71hZmsiCFnb0XLVS0LPQzDCutU4YdXL7rz7SvtCkvT6C18snO1mPOzsDK68xyL5FBZ1VYvGJCocUyJikVRkloibkAB1zgIwhKQqUGsoNyaz1EIhYlIV55ykKDBE1Gishbb29uqm9nUNReVDSkkIksQQESFIFBUFOedUlI0BqYrmltuNGlW1ERDa/WEpyaqSDIAtshc/9+tueSLDTLyrGsrz4pFHLt26dX92543u+98bQgPiJGlg7I//uf/k5ptvfuf+uIwjyw7qHt0pLKbHZ+wIXUu5FdPu/adIQBk0SkoakpJAo2oSYaglUlVDZFntcnITKo5Y6WHmZ1XkGRWlwDINHOcGKhyVYMzp6fjuG9/eGA6cQaBuLxeav4YQY+UpKDQFMUGUWDIy6gmKrmFiCbVEoSbQ1HvO1JD0ndnoGEdIKbVhVrS2Kic+ITdW1DAbX0+O7n61SZ7b7YlJ2r0yEgkT2RV8QgRUSBitT6m57fpOCW0j+1VHsgiNBCZ1bJbj8fO/9T8+Rnyzye5U2XjZbG73798/OjlbcC+8cfRiDNGIiKgCrpe//1Mf/9yv/Oqiif2OIWcn8/mtO1/X4Q4Dpt1pU5WUEtAkjZJijEnLeHInndxPzvGN97IrTBImLtgULtmv3jtT1dUWndQ2h12HXcTEK5UwRAwNIFVy5N78wu+Krwbb2+VsHC5eeG3uw+QogUiNqDJAViyrEBJk5kVFcmZmTQhgDRCT6zDXeY2TSo/LaAgMypnYsJJGSW0vZZc5SXFe1YfLBYk4p8paEDkyKipJ2t2iQ9K2U70hhJjaDFRqm1YwCauyAmrR7ocEHyhBjerXfv3Xmtn4FrKTsZSxss4e7J9E5Wc/+YHeo7sn1SkTrKCupQpJgd3n3rX34rcX+wejfsd1yJf1/uFhv9shKINYUydjQ+obDT6JRsOp88oX3B8+H2Z+IZg/d6If/IRVtYbAGuqlZQix8rpFJUG4bc4JSiKSoIZ41bUKRGKYp6f7b73y6t6guH3rYGDDlSe2T5YKESIYSUTGWLJRGlUlEkpKMbMpKjRqG4ZKSiISVJyaOqXMoklJIhoCqxFOddMYY2F52B2OQxBWkCpSFdRABZTUtwF7EFRBgoIgq82sSHMiowIyzoEoseW2EXq7cCWGGJRh+P7Xvpr2bxdZcTBp6hiTSmazx557+qkPPHvlyWsAKEUDaqLMkgeJJGKTPfnRD3zln/+KppBbUhIrcasLTRKjQiXGWIYYAxlmZUqT+82XvhhOw4QREpqvfSs++Q7bG3LSnM9y+aZ1LgDQ1G572vaMgCFmY9od+ZiCCIEzw0xGieXWvVvHdw92nrnSH2beU+OKLqUUJDMwREyhnc5siFisJSJpJMUgSaMk0cSACqRGIqKM2IjCkw+iypyFgHq6rENSq6aOwUsyxsYYNQYHAlBDG0i7XXxmmBmQGEkjUq6mZylzYBKTREAxwJcJSI2qQpmNY+NCc+sPns/P9gej7lv3pylK8OHGO69/4qd+7PKN68ag8T6JIEnZoEqiHAtrExsSXL58aXNn1KNwfWAmjVH1sWmCT6KkSoa1awysKiQSL33QkyAWShgKliF5SLejGs+w+INUvWkrXxmnNhbSNm1iAFqnmIIE1dyZbialhIwyGBcbzbq2mc+X9eLl129vDLp143c/ytb4LFdWWKvG6arhGYQ4NAFN0joGp9a4ZCgJsQgJqUByKDMpKIiqSiKK8KzF3qVLh6+/ZY1tJPqQGp98SpKST6qqYiCQ3LBP2iSR1SZqMKAusQU0IKW6ClwnjYmY0W7KZQwLML17++irX73cRWR75/7hsmlslv/Rn/7h93/6A2ry4CsYpJAYDmqItOdAmfNeYtkwodPLhrubi4P72ZYZdG1VNnUDjjCsbCjPIEGEIALSUOxd8Y8/1XnpVVhUDR2947HNwsnyrlZfpOaeAWxu6szCJ3jvlJKAxJOokI3GieOsihJJMoQQtYwSudGmvHJ1r16W9w5OukXxWDfc2BUkqiJgY9QIsSIKNWJq2ILAAVaVjA0d45fLTlQTJOaWokTjWMir5kxGEH0wHWfxgae/9YXny7IUTSmm5eTUqZ9HiSrEsEIJYcPkUeA1uUIlmr4jjUaSeklKITQQI2SQGdYEH0VUxYeTV76RH91/x25vUTev3bxzNllcvnH1kz/5mevvvF6VATGpsrQ9/ZF6HadNbOL8jVfujg/L3GWAEQmnCx8X4azJaqT7L70xDdEoNClYN3c3L164CismtwjB2lB96pO3+hvL45N6uDF419MmHcb6+YwOsxxQ2NyqamRWw2Sch4hmhQopU5HXlpCSHWZqYirIJSY21TdPT65d2dW66nTdBz/5vuFGU1YLZxwpuawRX2c2d7BdR2ytRiIQmCAkzrisWzsjigAt1JqOgXKiOh/mUbVJzMgNpycubbz8setf/J3X88IRaP+V17b+yAefvrYXYiIwcfSJyLgUQUi9gabGgFPTUJm09EomzhWJ4sDlddSoJutRnM7Hr722WU43Lm8e3N0/Ohj7PP/wjz779Mc+0Ot2fF12DSI7JbKGDGuI4lzTjeH1r32n33WpayaTuUQZdvsbOzsvfefWWdkrCsq7rjfoHt45BqE7yvfvHh8fLR57z7X+4u7ym6+a5SJX2RDkgwgc0UtnFjXLET0Buw0Atp+lOonhZrPvOPPiVUBGnWW1cNxLySe23tg8SwF5PDi4d3oyfurxawD9kZ946tJzGWLIVQ2iZYq+gS3LCJvSmV9Gb1Vra1MnpxDClOZJOr3U65gU0VhyhSC3RCZaimXdEFuQGNWc7V/+yz+1O/j8v/n1r4GwmFdf+Ddf/E9+7meszSA0qWfk3bKKeVoOB72BtU30Z4ukDaDeIQwyXyE5lkEWd4a9+SRO7945+86bm71Od3vzjTdulku/9/T1T33kHXsXH5uFJuPUy9jX/jioRARE2LhchiKXF59/5erl0Te+dTs5e/WRi1v9/v2js+M3j02W3TlrLo5SJfNbL9/sD23M+f7dxcW9zePTo5170n3hN/23SwMMCTOBAZyBSgs00Bwi/RhGOWyXS9a4New4DZ6SJMRYdvKOJapiCmFK6iTIIM+S1Anly1+/Za07Op7u3zt64/Dow+byc+94R6YVmWIRwjxUOlzOm9Cz9nCRjHas2G636qInSYoObPKbeYYkxEIUA1LmSBPHOK2i50QQo4U1Cb6yn/mxH1zW7nf/zRcyR1/9yiuDjd/50Z/4VLBUTuezmvr9eOjj6YQ2RWe+PB0bi6IY8dClzcw23W5vFIdGXnvl3uGt8dn949T4Ub9z785944oPfPId3acu5C6bhiWrsTalWCYp5suwU3QXZQlbQszk/jhZfvXN/Z2d0VM/8DSs+NI+vj3sjzZ/67VfmyyqGKwWuDgY/uin350Gdv92/eI3X90dFicH08FtkRpFDjByhxIoFH2LRYI2OKnQAzIH++WjF5D3dpuheFO6mabOvM66WXDRubTQjKztTprU5zkbScF/55WjFDG7d5Tlpt/pzl5Nx9fmw0KaBbEE7whN2c2qQjYe6aCLCPG2Fxt/a5Tvllpq1akxnVehK022UTQ2haozWSw2esX+GCFMXNpAbtRUVW0H0nzg08+ejM++9YcvdTud3/2dryy8//QfezIWxbZbGtdM/bDgijLQYsLsRp0i4wlRNk6RbWBe/PovvXbvjbGKVD6+86nLIWpl8NFPPXnjxpU7deplWMx8itTkDdkUgh8VnSsjHzeKGkjN8ivfGXczNGfVRz9xIysS2zw4e7ysLmz3di9vprK6vJntnzTjw6OqXmxtjVhiLysUur2zPfrRDx/9xkvj0kda5CxQhCWOCEI4yzF/FMOAQQ57dn//4qOXXjmsLm66cZR8WpZimvkJGecl380GBbKYN/Pl0vbzuqRed3D92vBD77z25JNXCkxDU/5P4/s9Wx4sJC+Xabcv81njWevxacXbWTEosFHtSzXe2ftQk+7dvO2absaCpweEtFiWsdfr7y/3r/HO0nRNTo0/G3b7u0U6qcpBpPvL5Uf/xPvv3b0zP6qKnvvmF1+K1fhH//RHjBzXSQqrs6q/l3ez7aIzdT2aKs0He4+MqyMjdTyevfHaIUVs7Qxd1VSV6Gj+0Z946p2PPXK0qJSsNWHul6NBv1PEjuZSlhvdweXhkBQ3l7fYcYr15qbZeWpj40KHNZtW873BQCbeburG0E68cZ3iwsXe0oebb+xPzxYn95eXtvOvf/3W+9852rn6qH/kutanxUt/UH5htmtwN+HwA7j2NPZqXCwAhSxhhyZ0yumIZkybm5Rt+8mw6C3rm+O5hv6VUU6BcY2P500vhlJ9773ve+y5p9yH3/8+mObk9Vtny9PMn2yPhrGf3ynHu0ar8eTp0fWX5vu5ZF6CIN37zte2+4PelUXed/0dolhdso3FfDyJ3e7WIOfbiFWsuAzZMB2lRXl6a3h576iuq7xzU5veiN//k8/87j/6aoyx1+u/fvO087nnn7kx4A2HUajiQmkjK0yqJvuT0/5gdN2UyzA+G5e3X/RblzvNuCl6sjEcmaz86B/b3Nka5kjz6akq13DSmXezekAFh2VdqPDJpJ6M8t2GTruun3dTmcZ7g91lqEa2yY2fq8cGX390MNxy8wmXjSh45+IghsViUmcF3Xvz9Mknh9cuDRpCr3t/b/SN5q1ZxhhaHBtsdbDdw+YlHJ7BBDRL2F6Ms3uLrBM3diNVCy8VZc43Wh4uUd5O294YvrxZvLyQjPzZvdmFkYuTs/G9N5bNaXk8HhfzbFj10B1ItdHRCxAaQI9fC5PZ7sb2hqPBdn5QXb4yzAOXs9Mo90/yLF3d7VSoLhsK4bSX3DtHo56TSVwaR6487uVx6ousk00x2etm1uS779+4+5XhzRcXMS93dnsH9ybf+eLZ1Sd6m5eK61c2m+3gOu716cRUdmfHL8pbi/nkziv3q7i9u9HtXbK3bk8my5Of/VPv7NlYnR7MtqqnLg5fPrmTTLGdzfKu7uWbJ7P9k2mKsTT9nsZ5NzTFxRBNmWJ9ML3/Lndhx/XvTW5VnWXE4M6svPRkXk5TDLEJYXqvvDuWZ94xSho/9sPPvOudO3G8WMa7CV/vSFkT+oyCUETcrfBcgUnE3jb25ygcbJ6HJvBWZ49kWp2eicXBtJ7NUmkGx5PoppO+8cXmk1d70zKFN4+3Jnr3pJFX6m+aQaMb5gCHffVVbc2kuZDGs+kJMgl2trXTvWJPClcZwrXNfjk77Zs390/8NdfdHvZP9t8SuxhuFpJtGa23pBnXMyr44uDRybQ3GpFvatSaZ36zwz423QE/+5mts+OG2XQ3SHNpfC1idEl33zi90t3hp7XjkuNqb2MjxqopbT7oDLdMLBsa1U+PRo79lcvOi8RuCLyYy7x0Z09sPlqPbdeVqX/mp9MqTYb9jHpdsXMjy2kYDy/NedI/PB2PF2+ErMguSlc3y6KZpsOmCuNFvb3n2MflxH/kQxff/8ylyvtrj0XuTeazl9L4tU1JMYIjFgIWXCMsR+gVCB6DDJEhAXYRamyYfLOuDXRoy8N5MdjMLu5W08lWl06banfDVuWETGHnNQdP+RKj3n2/X8miA+xsDJt702bh3aBzMplpyrJCuqPRoCpkXM/cLHOBtJg3Z6jmkYuJnHTShnfQYhej7mY+LLJi//R2ufTD/vDWyZtkZr3ONiSmo5N8aDtbF6qDuR2Odq/pez+xebRfb285pbL3vuzJJzazAj5Ib7c3Obzbc2b7kgFPG188fvFik46H/bSs46I4efKJC1k5ODo73NzqLf0071yb02KbYjW5t5DFRr7jw7gO0doyaCi26xF2lvGwXBzfeNx8/Xdnm9vp87//xg9+bO/65iOLk/HJ/P79e53tDdf4BUxmuzq0YXev3NhIm708xv14sE939+sF+ju4exdUwjGCghjGYplgDCY1hl0MC9iQOdUwa6bHy2bLuyJlEBrLdBGqxy73Zs3wLMxpsjA978vl1Y+I6y+WNguTvqZ5XPLMZmendVVnTzyyF+d+VFSzOnS6Ox2tZZNO5x7eGCcu3w75pEjMQ16E+ojFyPiCHRmDNxd3kWa93AJ00twedguYqreT07xaUrqso61uXk6OBz35gR/vlmdmfBAWZ/aRZ8zu7rJT5POx1+4ynM0zaMl2MauaWefxnZQNl/mAvDGjrIOiroPdGu6Jjhl66+CtQafbETPom+PZ4Th2mjQ1fddLWVbkQkvN5p0R371bbm9sPPI4XnyhHI3cd15a3n3r1mS+mMWq6CzLo/y5D+0++czo8195LWezeyF1ds44blTLN26/NXUzoAsj2BiiEqQlXIZ7ATNBNFCPABwn9LuwHG23R6A4tH0/G/cGPhtk4aAh19mfxcnRopfbylHHzyjE/nV3cBzHC91yw73dzUHePR4v3nh9sfnY1jdfPzVLuXF972Dulwen17uu05NFbVynT6mqspA1fOnKls41TRbl4WmScDQ4eerxx5dTr6J5r6j4rDMwzCBbeDSbmz2mOBnPLuztzhZNbXQj46uP8famDcmdjueji1gsYpWXh6iTyS5k17tDupXuxUz2fRXFzKpq2Ovlm4OjpS9pNkSva7I6zkOWNjt7FR/tu7FHE5qplxmIhhvDnIsO0ddf/rq15c5ol+z06uOmsFc///zBkNOyX8+ama+zuyfx8Ud67/qw27wi/FVbLWlcnp69cPu5R3uD2fT1GTb7WCa4Cq4DfRr3X8G9Wzi6RJeHGhROMZ4jLzAsYLPC55vGmnyQem/iMOfevFwyiUpzul9Nj63vmpKKosDVi2bhZVbq1sLHC+XxJBRbvZpdsZH1OnQ2rUwyw6IYLcdLrea6YRehv51PJ+NO33Y2R+VRU87mk2OMj+eDHL2hK2l2eHIkc0mI9+fL3YsXfDjY2r4y8yfqYx62zmZnHVtMou8UjmPKYscwGXs6qQN1BFlKZlqBJMy7o24ZO7MmOepEW5ZiBGmJZW9gFkFrv0xamKKum1o4dYvuyeJourxX5H2HLEqoll7IDLp+MVtOx9X+4enmVuH2mjuvzB/Z23vimrvyyM6rr5fHY5qf2BvXRrs/mPeGvgqL8an/oz+x/db9an9x1vdhcTrJInoMysFzhIitHg4Ik49h+R48fkk7DssarsJ2hs0hRj3Ya5eGb01nQ+f6w06KVJLtbaCpkoa8syhM5OV06U3qcpifuO7QLCc06tj5clpEvds99UVUF/aPy2XSC4UNWWniosj5YDwfXuwuSl81RX+4c3hn/+KuLibi2Fy8aNIsXd64mHIkOHWznc5ejUzi7HjaFL15z2pTs9so69n0LNIT5tHo7+VFIaaUebcJQcvO0Wy/t7m9P08ZFzYSF/HVyS3XsXu8M5tPN/vD0TZuz8ppsAXlVSQKi8OzqHaSmqyql2Hpb+xcH/TsUT2uq6YiYUlHs/tZt0innY29zW6X9o8OO71uFZanmAZ0Hn9850m2t8/iY49sz0/8raP7G5sXLVIT5kM3G50E8agIdwBfodtBTzFb4FKOsxPEGleHGBn0CalGFTHIsRkxPoStpDqe6hM3do/Opof7y71dMIbjW43b7lzc6jHNwrGpuZFSjO3deb3c3jDbeXfsy/6gX8jwbHJ2dIAo9eCKE9a3zo5Pj9PG9b1OmHU2+/a2l6Yu/fFsWrKxI0GnWw4o062Rs8a6XtQ0Mrrh3L1yVvlAIdtxPsZOb7Nz/3j/eFl3t7P9ozu7veixmFO+vWAIzRfVMHfNFKOeK8c+hexEuUohSQxN6kSzrI4sdQdFxxnqaEZhLtLMU+Qoo+HGnf073MTlZjfOhIyrfZyH6vJGbzrF2Xh+ZehSGd+aTodF1umNvBxwthNr7O1s7R+dzc/CuHPsa+oZMkVAMvW9w+VtiOdFBc+05fKzmaRkxtF3XXp+bg8WukNULuAlScZG+LRqTmbOXulMxvr/BzbswwTTd9WVAAAAAElFTkSuQmCC\n",
                  "text/plain": "<PIL.Image.Image image mode=RGB size=128x108 at 0x7F1A8D089050>"
                },
                "metadata": {},
                "output_type": "display_data"
              }
            ]
          }
        },
        "f90f1a8aba1d4fb2ac4d13f66f70e75b": {
          "model_module": "@jupyter-widgets/controls",
          "model_module_version": "1.5.0",
          "model_name": "DescriptionStyleModel",
          "state": {
            "_model_module": "@jupyter-widgets/controls",
            "_model_module_version": "1.5.0",
            "_model_name": "DescriptionStyleModel",
            "_view_count": null,
            "_view_module": "@jupyter-widgets/base",
            "_view_module_version": "1.2.0",
            "_view_name": "StyleView",
            "description_width": ""
          }
        }
      }
    }
  },
  "nbformat": 4,
  "nbformat_minor": 0
}
